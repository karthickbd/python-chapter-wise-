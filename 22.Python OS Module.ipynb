{
 "cells": [
  {
   "cell_type": "markdown",
   "metadata": {},
   "source": [
    "# 22.Python OS Module"
   ]
  },
  {
   "cell_type": "markdown",
   "metadata": {},
   "source": [
    "* Python OS module provides the facility to establish the interaction between the user and the operating system. It offers many useful OS functions that are used to perform OS-based tasks and get related information about operating system."
   ]
  },
  {
   "cell_type": "markdown",
   "metadata": {},
   "source": [
    "* os.name()"
   ]
  },
  {
   "cell_type": "code",
   "execution_count": 1,
   "metadata": {},
   "outputs": [
    {
     "name": "stdout",
     "output_type": "stream",
     "text": [
      "nt\n"
     ]
    }
   ],
   "source": [
    "import os   \n",
    "print(os.name)   "
   ]
  },
  {
   "cell_type": "markdown",
   "metadata": {},
   "source": [
    "* os.mkdir()"
   ]
  },
  {
   "cell_type": "raw",
   "metadata": {},
   "source": [
    "import os  \n",
    "os.mkdir(\"d:\\\\newdir\")  "
   ]
  },
  {
   "cell_type": "markdown",
   "metadata": {},
   "source": [
    "* os.getcwd()"
   ]
  },
  {
   "cell_type": "raw",
   "metadata": {},
   "source": [
    "import os     \n",
    "print(os.getcwd())     "
   ]
  },
  {
   "cell_type": "markdown",
   "metadata": {},
   "source": [
    "* os.chdir()"
   ]
  },
  {
   "cell_type": "raw",
   "metadata": {},
   "source": [
    "import os  \n",
    "os.chdir(\"d:\\\\\")  "
   ]
  },
  {
   "cell_type": "markdown",
   "metadata": {},
   "source": [
    "* os.rmdir()"
   ]
  },
  {
   "cell_type": "raw",
   "metadata": {},
   "source": [
    "import os  \n",
    "# It will throw a Permission error; that's why we have to change the current working directory.  \n",
    "os.rmdir(\"d:\\\\newdir\")  \n",
    "os.chdir(\"..\")  \n",
    "os.rmdir(\"newdir\")  "
   ]
  },
  {
   "cell_type": "markdown",
   "metadata": {},
   "source": [
    "* os.error()"
   ]
  },
  {
   "cell_type": "code",
   "execution_count": 6,
   "metadata": {},
   "outputs": [
    {
     "name": "stdout",
     "output_type": "stream",
     "text": [
      "<class 'OSError'>\n",
      "Problem reading: Python.txt\n"
     ]
    },
    {
     "name": "stderr",
     "output_type": "stream",
     "text": [
      "C:\\Users\\JAIKUMAR\\anaconda3\\lib\\site-packages\\ipykernel_launcher.py:7: DeprecationWarning: 'U' mode is deprecated\n",
      "  import sys\n"
     ]
    }
   ],
   "source": [
    "import os  \n",
    "  \n",
    "try:  \n",
    "    # If file does not exist,  \n",
    "    # then it throw an IOError  \n",
    "    filename = 'Python.txt'  \n",
    "    f = open(filename, 'rU')  \n",
    "    text = f.read()  \n",
    "    f.close()  \n",
    "# The Control jumps directly to here if  \n",
    "# any lines throws IOError.  \n",
    "except IOError:  \n",
    "  \n",
    "    print(os.error) \n",
    "    print('Problem reading: ' + filename)     "
   ]
  },
  {
   "cell_type": "markdown",
   "metadata": {},
   "source": [
    "* os.popen()"
   ]
  },
  {
   "cell_type": "code",
   "execution_count": 7,
   "metadata": {},
   "outputs": [
    {
     "name": "stdout",
     "output_type": "stream",
     "text": [
      "This is awesome\n"
     ]
    },
    {
     "data": {
      "text/plain": [
       "15"
      ]
     },
     "execution_count": 7,
     "metadata": {},
     "output_type": "execute_result"
    }
   ],
   "source": [
    "import os     \n",
    "fd = \"python.txt\"      \n",
    "    \n",
    "# popen() is similar to open()     \n",
    "file = open(fd, 'w')     \n",
    "file.write(\"This is awesome\")     \n",
    "file.close()     \n",
    "file = open(fd, 'r')     \n",
    "text = file.read()     \n",
    "print(text)     \n",
    "      \n",
    "# popen() provides gateway and accesses the file directly     \n",
    "file = os.popen(fd, 'w')     \n",
    "file.write(\"This is awesome\")     \n",
    "# File not closed, shown in next function.    "
   ]
  },
  {
   "cell_type": "markdown",
   "metadata": {},
   "source": [
    "* os.close()"
   ]
  },
  {
   "cell_type": "code",
   "execution_count": 8,
   "metadata": {},
   "outputs": [
    {
     "ename": "FileNotFoundError",
     "evalue": "[Errno 2] No such file or directory: 'Python1.txt'",
     "output_type": "error",
     "traceback": [
      "\u001b[1;31m---------------------------------------------------------------------------\u001b[0m",
      "\u001b[1;31mFileNotFoundError\u001b[0m                         Traceback (most recent call last)",
      "\u001b[1;32m<ipython-input-8-13a03a5ebbdd>\u001b[0m in \u001b[0;36m<module>\u001b[1;34m\u001b[0m\n\u001b[0;32m      1\u001b[0m \u001b[1;32mimport\u001b[0m \u001b[0mos\u001b[0m\u001b[1;33m\u001b[0m\u001b[1;33m\u001b[0m\u001b[0m\n\u001b[0;32m      2\u001b[0m \u001b[0mfr\u001b[0m \u001b[1;33m=\u001b[0m \u001b[1;34m\"Python1.txt\"\u001b[0m\u001b[1;33m\u001b[0m\u001b[1;33m\u001b[0m\u001b[0m\n\u001b[1;32m----> 3\u001b[1;33m \u001b[0mfile\u001b[0m \u001b[1;33m=\u001b[0m \u001b[0mopen\u001b[0m\u001b[1;33m(\u001b[0m\u001b[0mfr\u001b[0m\u001b[1;33m,\u001b[0m \u001b[1;34m'r'\u001b[0m\u001b[1;33m)\u001b[0m\u001b[1;33m\u001b[0m\u001b[1;33m\u001b[0m\u001b[0m\n\u001b[0m\u001b[0;32m      4\u001b[0m \u001b[0mtext\u001b[0m \u001b[1;33m=\u001b[0m \u001b[0mfile\u001b[0m\u001b[1;33m.\u001b[0m\u001b[0mread\u001b[0m\u001b[1;33m(\u001b[0m\u001b[1;33m)\u001b[0m\u001b[1;33m\u001b[0m\u001b[1;33m\u001b[0m\u001b[0m\n\u001b[0;32m      5\u001b[0m \u001b[0mprint\u001b[0m\u001b[1;33m(\u001b[0m\u001b[0mtext\u001b[0m\u001b[1;33m)\u001b[0m\u001b[1;33m\u001b[0m\u001b[1;33m\u001b[0m\u001b[0m\n",
      "\u001b[1;31mFileNotFoundError\u001b[0m: [Errno 2] No such file or directory: 'Python1.txt'"
     ]
    }
   ],
   "source": [
    "import os     \n",
    "fr = \"Python1.txt\"    \n",
    "file = open(fr, 'r')     \n",
    "text = file.read()     \n",
    "print(text)     \n",
    "os.close(file)     "
   ]
  },
  {
   "cell_type": "markdown",
   "metadata": {},
   "source": [
    "* os.rename()"
   ]
  },
  {
   "cell_type": "code",
   "execution_count": 9,
   "metadata": {},
   "outputs": [
    {
     "ename": "FileNotFoundError",
     "evalue": "[WinError 2] The system cannot find the file specified: 'python.txt' -> 'Python1.txt'",
     "output_type": "error",
     "traceback": [
      "\u001b[1;31m---------------------------------------------------------------------------\u001b[0m",
      "\u001b[1;31mFileNotFoundError\u001b[0m                         Traceback (most recent call last)",
      "\u001b[1;32m<ipython-input-9-3f160b5a08ec>\u001b[0m in \u001b[0;36m<module>\u001b[1;34m\u001b[0m\n\u001b[0;32m      2\u001b[0m \u001b[0mfd\u001b[0m \u001b[1;33m=\u001b[0m \u001b[1;34m\"python.txt\"\u001b[0m\u001b[1;33m\u001b[0m\u001b[1;33m\u001b[0m\u001b[0m\n\u001b[0;32m      3\u001b[0m \u001b[0mos\u001b[0m\u001b[1;33m.\u001b[0m\u001b[0mrename\u001b[0m\u001b[1;33m(\u001b[0m\u001b[0mfd\u001b[0m\u001b[1;33m,\u001b[0m\u001b[1;34m'Python1.txt'\u001b[0m\u001b[1;33m)\u001b[0m\u001b[1;33m\u001b[0m\u001b[1;33m\u001b[0m\u001b[0m\n\u001b[1;32m----> 4\u001b[1;33m \u001b[0mos\u001b[0m\u001b[1;33m.\u001b[0m\u001b[0mrename\u001b[0m\u001b[1;33m(\u001b[0m\u001b[0mfd\u001b[0m\u001b[1;33m,\u001b[0m\u001b[1;34m'Python1.txt'\u001b[0m\u001b[1;33m)\u001b[0m\u001b[1;33m\u001b[0m\u001b[1;33m\u001b[0m\u001b[0m\n\u001b[0m",
      "\u001b[1;31mFileNotFoundError\u001b[0m: [WinError 2] The system cannot find the file specified: 'python.txt' -> 'Python1.txt'"
     ]
    }
   ],
   "source": [
    "import os     \n",
    "fd = \"python.txt\"    \n",
    "os.rename(fd,'Python1.txt')     \n",
    "os.rename(fd,'Python1.txt')     "
   ]
  },
  {
   "cell_type": "markdown",
   "metadata": {},
   "source": [
    "* os.access()"
   ]
  },
  {
   "cell_type": "code",
   "execution_count": 10,
   "metadata": {},
   "outputs": [
    {
     "name": "stdout",
     "output_type": "stream",
     "text": [
      "Exist path: False\n",
      "It access to read the file: False\n",
      "It access to write the file: False\n",
      "Check if path can be executed: False\n"
     ]
    }
   ],
   "source": [
    "import os     \n",
    "import sys    \n",
    "    \n",
    "path1 = os.access(\"Python.txt\", os.F_OK)     \n",
    "print(\"Exist path:\", path1)     \n",
    "      \n",
    "# Checking access with os.R_OK     \n",
    "path2 = os.access(\"Python.txt\", os.R_OK)     \n",
    "print(\"It access to read the file:\", path2)     \n",
    "      \n",
    "# Checking access with os.W_OK     \n",
    "path3 = os.access(\"Python.txt\", os.W_OK)     \n",
    "print(\"It access to write the file:\", path3)     \n",
    "      \n",
    "# Checking access with os.X_OK     \n",
    "path4 = os.access(\"Python.txt\", os.X_OK)     \n",
    "print(\"Check if path can be executed:\", path4)    "
   ]
  },
  {
   "cell_type": "code",
   "execution_count": null,
   "metadata": {},
   "outputs": [],
   "source": []
  }
 ],
 "metadata": {
  "kernelspec": {
   "display_name": "Python 3",
   "language": "python",
   "name": "python3"
  },
  "language_info": {
   "codemirror_mode": {
    "name": "ipython",
    "version": 3
   },
   "file_extension": ".py",
   "mimetype": "text/x-python",
   "name": "python",
   "nbconvert_exporter": "python",
   "pygments_lexer": "ipython3",
   "version": "3.7.6"
  }
 },
 "nbformat": 4,
 "nbformat_minor": 4
}
