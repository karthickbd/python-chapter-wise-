{
 "cells": [
  {
   "cell_type": "markdown",
   "metadata": {},
   "source": [
    "# 18.Python Write CSV File"
   ]
  },
  {
   "cell_type": "markdown",
   "metadata": {},
   "source": [
    "* A CSV stands for \"comma-separated values\", which is defined as a simple file format that uses specific structuring to arrange tabular data. It stores tabular data such as spreadsheet or database in plain text and has a standard format for data interchange. The CSV file opens into the excel sheet, and the rows and columns data define the standard format."
   ]
  },
  {
   "cell_type": "markdown",
   "metadata": {},
   "source": [
    "<img src='16.png'/>"
   ]
  },
  {
   "cell_type": "code",
   "execution_count": 2,
   "metadata": {},
   "outputs": [],
   "source": [
    "data = [{'Rank': 'B', 'first_name': 'Parker', 'last_name': 'Brian'},     \n",
    "{'Rank': 'A', 'first_name': 'Smith', 'last_name': 'Rodriguez'},    \n",
    "{'Rank': 'C', 'first_name': 'Tom', 'last_name': 'smith'},    \n",
    "{'Rank': 'B', 'first_name': 'Jane', 'last_name': 'Oscar'},     \n",
    "{'Rank': 'A', 'first_name': 'Alex', 'last_name': 'Tim'}]    "
   ]
  },
  {
   "cell_type": "code",
   "execution_count": 4,
   "metadata": {},
   "outputs": [
    {
     "name": "stdout",
     "output_type": "stream",
     "text": [
      "Writing complete\n"
     ]
    }
   ],
   "source": [
    "import csv    \n",
    "     \n",
    "with open('newdata.csv', 'w') as simbu:    \n",
    "    fieldnames = ['first_name', 'last_name', 'Rank']   \n",
    "    \n",
    "    karthi = csv.DictWriter(simbu, fieldnames=fieldnames)    \n",
    "     \n",
    "    karthi.writeheader()    \n",
    "    karthi.writerow({'Rank': 'B', 'first_name': 'Parker', 'last_name': 'Brian'})  \n",
    "    \n",
    "    karthi.writerow({'Rank': 'A', 'first_name': 'Smith','last_name': 'Rodriguez'}) \n",
    "    \n",
    "    karthi.writerow({'Rank': 'B', 'first_name': 'Jane', 'last_name': 'Oscar'})    \n",
    "    karthi.writerow({'Rank': 'B', 'first_name': 'Jane', 'last_name': 'Loive'})    \n",
    "     \n",
    "print(\"Writing complete\")    "
   ]
  },
  {
   "cell_type": "code",
   "execution_count": 6,
   "metadata": {},
   "outputs": [
    {
     "name": "stdout",
     "output_type": "stream",
     "text": [
      "Column names are first_name, last_name, Rank\n"
     ]
    }
   ],
   "source": [
    "import csv    \n",
    "with open('python.csv') as csv_file:    \n",
    "    csv_reader = csv.reader(csv_file, delimiter=',')    \n",
    "    line_count = 0    \n",
    "    for row in csv_reader:    \n",
    "        if line_count == 0:    \n",
    "            print(f'Column names are {\", \".join(row)}')    \n",
    "            line_count += 1    "
   ]
  },
  {
   "cell_type": "code",
   "execution_count": 10,
   "metadata": {},
   "outputs": [
    {
     "data": {
      "text/plain": [
       "'B'"
      ]
     },
     "execution_count": 10,
     "metadata": {},
     "output_type": "execute_result"
    }
   ],
   "source": [
    "# Import the xlrd module      \n",
    "import xlrd     \n",
    "      \n",
    "# Define the location of the file     \n",
    "loc = (\"newdata.xlsx\")     \n",
    "      \n",
    "# To open the Workbook     \n",
    "wb = xlrd.open_workbook(loc)     \n",
    "sheet = wb.sheet_by_index(0)     \n",
    "      \n",
    "# For row 0 and column 0     \n",
    "sheet.cell_value(2, 2)  "
   ]
  },
  {
   "cell_type": "code",
   "execution_count": 11,
   "metadata": {},
   "outputs": [
    {
     "ename": "AttributeError",
     "evalue": "module 'xlsxwriter' has no attribute 'Book'",
     "output_type": "error",
     "traceback": [
      "\u001b[1;31m---------------------------------------------------------------------------\u001b[0m",
      "\u001b[1;31mAttributeError\u001b[0m                            Traceback (most recent call last)",
      "\u001b[1;32m<ipython-input-11-79af75ccf345>\u001b[0m in \u001b[0;36m<module>\u001b[1;34m\u001b[0m\n\u001b[0;32m      2\u001b[0m \u001b[1;32mimport\u001b[0m \u001b[0mxlsxwriter\u001b[0m\u001b[1;33m\u001b[0m\u001b[1;33m\u001b[0m\u001b[0m\n\u001b[0;32m      3\u001b[0m \u001b[1;33m\u001b[0m\u001b[0m\n\u001b[1;32m----> 4\u001b[1;33m \u001b[0mbook\u001b[0m \u001b[1;33m=\u001b[0m \u001b[0mxlsxwriter\u001b[0m\u001b[1;33m.\u001b[0m\u001b[0mBook\u001b[0m\u001b[1;33m(\u001b[0m\u001b[1;34m'Example2.xlsx'\u001b[0m\u001b[1;33m)\u001b[0m\u001b[1;33m\u001b[0m\u001b[1;33m\u001b[0m\u001b[0m\n\u001b[0m\u001b[0;32m      5\u001b[0m \u001b[0msheet\u001b[0m \u001b[1;33m=\u001b[0m \u001b[0mbook\u001b[0m\u001b[1;33m.\u001b[0m\u001b[0madd_sheet\u001b[0m\u001b[1;33m(\u001b[0m\u001b[1;33m)\u001b[0m\u001b[1;33m\u001b[0m\u001b[1;33m\u001b[0m\u001b[0m\n\u001b[0;32m      6\u001b[0m \u001b[1;33m\u001b[0m\u001b[0m\n",
      "\u001b[1;31mAttributeError\u001b[0m: module 'xlsxwriter' has no attribute 'Book'"
     ]
    }
   ],
   "source": [
    "# import xlsxwriter module     \n",
    "import xlsxwriter     \n",
    "      \n",
    "book = xlsxwriter.Book('Example2.xlsx')     \n",
    "sheet = book.add_sheet()     \n",
    "       \n",
    "# Rows and columns are zero indexed.     \n",
    "row = 0    \n",
    "column = 0    \n",
    "      \n",
    "content = [\"Parker\", \"Smith\", \"John\"]     \n",
    "      \n",
    "# iterating through the content list     \n",
    "for item in content :     \n",
    "      \n",
    "    # write operation perform     \n",
    "    sheet.write(row, column, item)     \n",
    "      \n",
    "    # incrementing the value of row by one with each iterations.     \n",
    "    row += 1    \n",
    "          \n",
    "book.close()     "
   ]
  },
  {
   "cell_type": "code",
   "execution_count": null,
   "metadata": {},
   "outputs": [],
   "source": []
  }
 ],
 "metadata": {
  "kernelspec": {
   "display_name": "Python 3",
   "language": "python",
   "name": "python3"
  },
  "language_info": {
   "codemirror_mode": {
    "name": "ipython",
    "version": 3
   },
   "file_extension": ".py",
   "mimetype": "text/x-python",
   "name": "python",
   "nbconvert_exporter": "python",
   "pygments_lexer": "ipython3",
   "version": "3.7.6"
  }
 },
 "nbformat": 4,
 "nbformat_minor": 4
}
