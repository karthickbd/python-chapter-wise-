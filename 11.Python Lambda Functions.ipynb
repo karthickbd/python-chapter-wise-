{
 "cells": [
  {
   "cell_type": "markdown",
   "metadata": {},
   "source": [
    "# 11.Python Lambda Functions"
   ]
  },
  {
   "cell_type": "code",
   "execution_count": 6,
   "metadata": {},
   "outputs": [
    {
     "name": "stdout",
     "output_type": "stream",
     "text": [
      "<function <lambda> at 0x000002630C9041F8>\n",
      "sum =  30\n"
     ]
    }
   ],
   "source": [
    "# a is an argument and a+10 is an expression which got evaluated and returned.    \n",
    "x = lambda a,b:a+b  \n",
    "\n",
    "# Here we are printing the function object  \n",
    "print(x)  \n",
    "\n",
    "print(\"sum = \",x(10,20))  \n"
   ]
  },
  {
   "cell_type": "code",
   "execution_count": 7,
   "metadata": {},
   "outputs": [
    {
     "name": "stdout",
     "output_type": "stream",
     "text": [
      "sum =  30\n"
     ]
    }
   ],
   "source": [
    "def x(a):  \n",
    "    return a+10  \n",
    "\n",
    "print('sum = ',x(20))  "
   ]
  },
  {
   "cell_type": "code",
   "execution_count": 16,
   "metadata": {},
   "outputs": [
    {
     "name": "stdout",
     "output_type": "stream",
     "text": [
      "mul =  200\n",
      "Enter the number:10\n",
      "table 10\n",
      "10 X 1 = 10\n",
      "10 X 2 = 20\n",
      "10 X 3 = 30\n",
      "10 X 4 = 40\n",
      "10 X 5 = 50\n",
      "10 X 6 = 60\n",
      "10 X 7 = 70\n",
      "10 X 8 = 80\n",
      "10 X 9 = 90\n",
      "10 X 10 = 100\n"
     ]
    }
   ],
   "source": [
    "# a and b are the arguments and a*b is the expression which gets evaluated and returned.    \n",
    "x = lambda a,b: a*b  \n",
    "print(\"mul = \", x(20,10))  \n",
    "\n",
    "  \n",
    "\n",
    "def table(n):    \n",
    "    return lambda a:a*n    \n",
    "\n",
    "n = int(input(\"Enter the number:\"))    \n",
    "b = table(n)\n",
    "\n",
    "\n",
    "for i in range(1,11):    \n",
    "    print(n,\"X\",i,\"=\",b(i))  "
   ]
  },
  {
   "cell_type": "code",
   "execution_count": 19,
   "metadata": {},
   "outputs": [
    {
     "name": "stdout",
     "output_type": "stream",
     "text": [
      "(123,)\n"
     ]
    }
   ],
   "source": [
    "#program to filter out the tuple which contains odd numbers    \n",
    "lst = (10,22,37,41,100,123,29)  \n",
    "\n",
    "oddlist = tuple(filter(lambda x:(x%3 == 0),lst))\n",
    "\n",
    "print(oddlist)    "
   ]
  },
  {
   "cell_type": "code",
   "execution_count": 22,
   "metadata": {},
   "outputs": [
    {
     "name": "stdout",
     "output_type": "stream",
     "text": [
      "[100, 400, 900, 1600, 2500, 3600]\n"
     ]
    }
   ],
   "source": [
    "#program to filter out the list which contains odd numbers    \n",
    "lst = (10,20,30,40,50,60)  \n",
    "\n",
    "square_list = list(map(lambda x:x**2,lst))\n",
    "# to true    \n",
    "print(square_list)    "
   ]
  },
  {
   "cell_type": "code",
   "execution_count": null,
   "metadata": {},
   "outputs": [],
   "source": []
  }
 ],
 "metadata": {
  "kernelspec": {
   "display_name": "Python 3",
   "language": "python",
   "name": "python3"
  },
  "language_info": {
   "codemirror_mode": {
    "name": "ipython",
    "version": 3
   },
   "file_extension": ".py",
   "mimetype": "text/x-python",
   "name": "python",
   "nbconvert_exporter": "python",
   "pygments_lexer": "ipython3",
   "version": "3.7.6"
  }
 },
 "nbformat": 4,
 "nbformat_minor": 4
}
