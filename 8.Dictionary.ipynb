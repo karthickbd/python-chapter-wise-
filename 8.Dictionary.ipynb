{
 "cells": [
  {
   "cell_type": "markdown",
   "metadata": {},
   "source": [
    "# 8.Dictionary"
   ]
  },
  {
   "cell_type": "markdown",
   "metadata": {},
   "source": [
    "* Python Dictionary is used to store the data in a key-value pair format. The dictionary is the data type in Python, which can simulate the real-life data arrangement where some specific value exists for some particular key. It is the mutable data-structure. The dictionary is defined into element Keys and values.\n",
    "\n",
    "* Keys must be a single element\n",
    "* Value can be any type such as list, tuple, integer, etc.\n",
    "* In other words, we can say that a dictionary is the collection of key-value pairs where the value can be any Python object. In contrast, the keys are the immutable Python object, i.e., Numbers, string, or tuple."
   ]
  },
  {
   "cell_type": "code",
   "execution_count": 2,
   "metadata": {},
   "outputs": [
    {
     "name": "stdout",
     "output_type": "stream",
     "text": [
      "<class 'dict'>\n",
      "{'Name': 'John', 'Age': 29, 'salary': 25000, 'Company': 'GOOGLE'}\n"
     ]
    }
   ],
   "source": [
    "Employee = {\"Name\": \"John\", \"Age\": 29, \"salary\":25000,\"Company\":\"GOOGLE\"} \n",
    "\n",
    "print(type(Employee))    \n",
    " \n",
    "\n",
    "print(Employee)  "
   ]
  },
  {
   "cell_type": "code",
   "execution_count": 3,
   "metadata": {},
   "outputs": [
    {
     "name": "stdout",
     "output_type": "stream",
     "text": [
      "Empty Dictionary: \n",
      "{}\n",
      "\n",
      "Create Dictionary by using  dict(): \n",
      "{1: 'Java', 2: 'T', 3: 'Point'}\n",
      "\n",
      "Dictionary with each item as a pair: \n",
      "{1: 'Devansh', 2: 'Sharma'}\n"
     ]
    }
   ],
   "source": [
    "# Creating an empty Dictionary   \n",
    "Dict = {}   \n",
    "print(\"Empty Dictionary: \")   \n",
    "print(Dict)   \n",
    "  \n",
    "# Creating a Dictionary   \n",
    "# with dict() method   \n",
    "Dict = dict({1: 'Java', 2: 'T', 3:'Point'})   \n",
    "print(\"\\nCreate Dictionary by using  dict(): \")   \n",
    "print(Dict)   \n",
    "  \n",
    "# Creating a Dictionary   \n",
    "# with each item as a Pair   \n",
    "Dict = dict([(1, 'Devansh'), (2, 'Sharma')])   \n",
    "print(\"\\nDictionary with each item as a pair: \")   \n",
    "print(Dict)  "
   ]
  },
  {
   "cell_type": "markdown",
   "metadata": {},
   "source": [
    "* Accessing the dictionary values"
   ]
  },
  {
   "cell_type": "code",
   "execution_count": 4,
   "metadata": {},
   "outputs": [
    {
     "name": "stdout",
     "output_type": "stream",
     "text": [
      "<class 'dict'>\n",
      "printing Employee data .... \n",
      "Name : John\n",
      "Age : 29\n",
      "Salary : 25000\n",
      "Company : GOOGLE\n"
     ]
    }
   ],
   "source": [
    "Employee = {\"Name\": \"John\", \"Age\": 29, \"salary\":25000,\"Company\":\"GOOGLE\"}  \n",
    "print(type(Employee))  \n",
    "\n",
    "print(\"printing Employee data .... \")  \n",
    "\n",
    "print(\"Name : %s\" %Employee[\"Name\"])  \n",
    "\n",
    "print(\"Age : %d\" %Employee[\"Age\"])  \n",
    "\n",
    "print(\"Salary : %d\" %Employee[\"salary\"])  \n",
    "\n",
    "print(\"Company : %s\" %Employee[\"Company\"])  \n"
   ]
  },
  {
   "cell_type": "markdown",
   "metadata": {},
   "source": [
    "* Adding dictionary values"
   ]
  },
  {
   "cell_type": "code",
   "execution_count": 6,
   "metadata": {},
   "outputs": [
    {
     "name": "stdout",
     "output_type": "stream",
     "text": [
      "Empty Dictionary: \n",
      "{}\n",
      "\n",
      "Dictionary after adding 3 elements: \n",
      "{0: 'Peter', 2: 'Joseph', 3: 'Ricky'}\n",
      "\n",
      "Dictionary after adding 3 elements: \n",
      "{0: 'Peter', 2: 'Joseph', 3: 'Ricky', 'Emp_ages': (20, 33, 24)}\n",
      "\n",
      "Updated key value: \n",
      "{0: 'Peter', 2: 'Joseph', 3: 'simbu', 'Emp_ages': (20, 33, 24)}\n"
     ]
    }
   ],
   "source": [
    "# Creating an empty Dictionary   \n",
    "Dict = {}   \n",
    "print(\"Empty Dictionary: \")   \n",
    "print(Dict)   \n",
    "    \n",
    "# Adding elements to dictionary one at a time   \n",
    "Dict[0] = 'Peter'  \n",
    "Dict[2] = 'Joseph'  \n",
    "Dict[3] = 'Ricky'  \n",
    "print(\"\\nDictionary after adding 3 elements: \")   \n",
    "print(Dict)   \n",
    "    \n",
    "# Adding set of values    \n",
    "# with a single Key   \n",
    "# The Emp_ages doesn't exist to dictionary  \n",
    "Dict['Emp_ages'] = 20, 33, 24  \n",
    "print(\"\\nDictionary after adding 3 elements: \")   \n",
    "print(Dict)   \n",
    "    \n",
    "# Updating existing Key's Value   \n",
    "Dict[3] = 'simbu'  \n",
    "print(\"\\nUpdated key value: \")   \n",
    "print(Dict)    "
   ]
  },
  {
   "cell_type": "markdown",
   "metadata": {},
   "source": [
    "* Deleting elements using del keyword"
   ]
  },
  {
   "cell_type": "code",
   "execution_count": 7,
   "metadata": {},
   "outputs": [
    {
     "name": "stdout",
     "output_type": "stream",
     "text": [
      "<class 'dict'>\n",
      "printing Employee data .... \n",
      "{'Name': 'John', 'Age': 29, 'salary': 25000, 'Company': 'GOOGLE'}\n",
      "Deleting some of the employee data\n",
      "printing the modified information \n",
      "{'Age': 29, 'salary': 25000}\n",
      "Deleting the dictionary: Employee\n",
      "Lets try to print it again \n"
     ]
    },
    {
     "ename": "NameError",
     "evalue": "name 'Employee' is not defined",
     "output_type": "error",
     "traceback": [
      "\u001b[1;31m---------------------------------------------------------------------------\u001b[0m",
      "\u001b[1;31mNameError\u001b[0m                                 Traceback (most recent call last)",
      "\u001b[1;32m<ipython-input-7-8ba1bcb0b452>\u001b[0m in \u001b[0;36m<module>\u001b[1;34m\u001b[0m\n\u001b[0;32m     16\u001b[0m \u001b[1;33m\u001b[0m\u001b[0m\n\u001b[0;32m     17\u001b[0m \u001b[0mprint\u001b[0m\u001b[1;33m(\u001b[0m\u001b[1;34m\"Lets try to print it again \"\u001b[0m\u001b[1;33m)\u001b[0m\u001b[1;33m;\u001b[0m\u001b[1;33m\u001b[0m\u001b[1;33m\u001b[0m\u001b[0m\n\u001b[1;32m---> 18\u001b[1;33m \u001b[0mprint\u001b[0m\u001b[1;33m(\u001b[0m\u001b[0mEmployee\u001b[0m\u001b[1;33m)\u001b[0m\u001b[1;33m\u001b[0m\u001b[1;33m\u001b[0m\u001b[0m\n\u001b[0m",
      "\u001b[1;31mNameError\u001b[0m: name 'Employee' is not defined"
     ]
    }
   ],
   "source": [
    "Employee = {\"Name\": \"John\", \"Age\": 29, \"salary\":25000,\"Company\":\"GOOGLE\"}    \n",
    "print(type(Employee))    \n",
    "\n",
    "print(\"printing Employee data .... \")    \n",
    "print(Employee)    \n",
    "print(\"Deleting some of the employee data\")     \n",
    "\n",
    "del Employee[\"Name\"]    \n",
    "del Employee[\"Company\"]    \n",
    "\n",
    "print(\"printing the modified information \")    \n",
    "print(Employee)    \n",
    "\n",
    "print(\"Deleting the dictionary: Employee\");    \n",
    "del Employee    \n",
    "\n",
    "print(\"Lets try to print it again \");    \n",
    "print(Employee)    "
   ]
  },
  {
   "cell_type": "markdown",
   "metadata": {},
   "source": [
    "* Using pop() method"
   ]
  },
  {
   "cell_type": "code",
   "execution_count": 9,
   "metadata": {},
   "outputs": [
    {
     "name": "stdout",
     "output_type": "stream",
     "text": [
      "{1: 'simbu', 3: 'Thomas'}\n"
     ]
    }
   ],
   "source": [
    "# Creating a Dictionary   \n",
    "Dict = {1: 'simbu', 2: 'Peter', 3: 'Thomas'}   \n",
    "# Deleting a key    \n",
    "# using pop() method   \n",
    "pop_ele = Dict.pop(2)   \n",
    "print(Dict)  "
   ]
  },
  {
   "cell_type": "markdown",
   "metadata": {},
   "source": [
    "* Iterating Dictionary"
   ]
  },
  {
   "cell_type": "code",
   "execution_count": 10,
   "metadata": {},
   "outputs": [
    {
     "name": "stdout",
     "output_type": "stream",
     "text": [
      "Name\n",
      "Age\n",
      "salary\n",
      "Company\n"
     ]
    }
   ],
   "source": [
    "Employee = {\"Name\": \"John\", \"Age\": 29, \"salary\":25000,\"Company\":\"GOOGLE\"}    \n",
    "for x in Employee:    \n",
    "    print(x)  "
   ]
  },
  {
   "cell_type": "code",
   "execution_count": 13,
   "metadata": {},
   "outputs": [
    {
     "name": "stdout",
     "output_type": "stream",
     "text": [
      "('Name', 'John')\n",
      "('Age', 29)\n",
      "('salary', 25000)\n",
      "('Company', 'GOOGLE')\n"
     ]
    }
   ],
   "source": [
    "Employee = {\"Name\": \"John\", \"Age\": 29, \"salary\":25000,\"Company\":\"GOOGLE\"}    \n",
    "for x in Employee.items():    \n",
    "    print(x)  "
   ]
  },
  {
   "cell_type": "markdown",
   "metadata": {},
   "source": [
    "* Built-in Dictionary functions"
   ]
  },
  {
   "cell_type": "markdown",
   "metadata": {},
   "source": [
    "<img src='3.png'>"
   ]
  },
  {
   "cell_type": "markdown",
   "metadata": {},
   "source": [
    "<img src='4.png'>"
   ]
  },
  {
   "cell_type": "code",
   "execution_count": 14,
   "metadata": {},
   "outputs": [
    {
     "name": "stdout",
     "output_type": "stream",
     "text": [
      "{}\n"
     ]
    }
   ],
   "source": [
    "# 1.dict.clear()\n",
    "Employee = {\"Name\": \"John\", \"Age\": 29, \"salary\":25000,\"Company\":\"GOOGLE\"} \n",
    "\n",
    "Employee.clear()\n",
    "\n",
    "print(Employee)"
   ]
  },
  {
   "cell_type": "code",
   "execution_count": 15,
   "metadata": {},
   "outputs": [
    {
     "name": "stdout",
     "output_type": "stream",
     "text": [
      "{'Name': 'John', 'Age': 29, 'salary': 25000, 'Company': 'GOOGLE'}\n"
     ]
    }
   ],
   "source": [
    "# 2.dict.copy()\n",
    "\n",
    "Employee = {\"Name\": \"John\", \"Age\": 29, \"salary\":25000,\"Company\":\"GOOGLE\"} \n",
    "\n",
    "simbu=Employee.copy()\n",
    "\n",
    "print(simbu)"
   ]
  },
  {
   "cell_type": "code",
   "execution_count": 21,
   "metadata": {},
   "outputs": [
    {
     "name": "stdout",
     "output_type": "stream",
     "text": [
      "{'name': None, 'age': None, 'sex': None}\n",
      "{'name': 10, 'age': 10, 'sex': 10}\n",
      "{'name': 'simbu', 'age': 10, 'sex': 10}\n"
     ]
    }
   ],
   "source": [
    "# 3.dict.fromkeys()\n",
    "\n",
    "karthi=('name','age','sex')\n",
    "simbu=dict.fromkeys(karthi)\n",
    "\n",
    "print(simbu)\n",
    "\n",
    "kar=10\n",
    "k=dict.fromkeys(karthi,kar)\n",
    "print(k)\n",
    "k['name']='simbu'\n",
    "print(k)"
   ]
  },
  {
   "cell_type": "code",
   "execution_count": 23,
   "metadata": {},
   "outputs": [
    {
     "name": "stdout",
     "output_type": "stream",
     "text": [
      "GOOGLE\n"
     ]
    }
   ],
   "source": [
    "# 4.dict.get()\n",
    "\n",
    "Employee = {\"Name\": \"John\", \"Age\": 29, \"salary\":25000,\"Company\":\"GOOGLE\"}\n",
    "\n",
    "print(Employee.get('Company'))"
   ]
  },
  {
   "cell_type": "code",
   "execution_count": 24,
   "metadata": {},
   "outputs": [
    {
     "name": "stdout",
     "output_type": "stream",
     "text": [
      "dict_items([('Name', 'John'), ('Age', 29), ('salary', 25000), ('Company', 'GOOGLE')])\n"
     ]
    }
   ],
   "source": [
    "# 5.dict.items()\n",
    "\n",
    "print(Employee.items())"
   ]
  },
  {
   "cell_type": "code",
   "execution_count": 25,
   "metadata": {},
   "outputs": [
    {
     "name": "stdout",
     "output_type": "stream",
     "text": [
      "dict_keys(['Name', 'Age', 'salary', 'Company'])\n"
     ]
    }
   ],
   "source": [
    "# 6.dict.keys()\n",
    "\n",
    "print(Employee.keys())"
   ]
  },
  {
   "cell_type": "code",
   "execution_count": 31,
   "metadata": {},
   "outputs": [
    {
     "name": "stdout",
     "output_type": "stream",
     "text": [
      "default 2500\n",
      "{'B,Tech': 400000, 'BA': 2500, 'B.COM': 50000}\n"
     ]
    }
   ],
   "source": [
    "#7.dict.setdefault()\n",
    "\n",
    "# Python dictionary setdefault() Method  \n",
    "# Creating a dictionary  \n",
    "karthi = {'B,Tech': 400000, 'BA':2500, 'B.COM':50000}  \n",
    "\n",
    "# Displaying result  \n",
    "p = karthi.setdefault('BA') # Returns it's value  \n",
    "print(\"default\",p)  \n",
    "print(karthi)  "
   ]
  },
  {
   "cell_type": "code",
   "execution_count": 33,
   "metadata": {},
   "outputs": [
    {
     "name": "stdout",
     "output_type": "stream",
     "text": [
      "{'Fan': 200, 'Bulb': 150, 'Led': 1000}\n",
      "{'Fan': 200, 'Bulb': 150, 'Led': 1000, 'cooler': 50}\n"
     ]
    }
   ],
   "source": [
    "# 8.dict.update()  \n",
    "# Creating a dictionary  \n",
    "einventory = {'Fan': 200, 'Bulb':150, 'Led':1000}  \n",
    "\n",
    "print(einventory)  \n",
    "# Calling Method  \n",
    "\n",
    "einventory.update({'cooler':50})  \n",
    "\n",
    "print(einventory)"
   ]
  },
  {
   "cell_type": "code",
   "execution_count": 34,
   "metadata": {},
   "outputs": [
    {
     "name": "stdout",
     "output_type": "stream",
     "text": [
      "Stock available {'Fan': 200, 'Bulb': 150, 'Led': 1000}\n"
     ]
    }
   ],
   "source": [
    "#9.dict.values()\n",
    "\n",
    "# Python dictionary values() Method  \n",
    "# Creating a dictionary  \n",
    "einventory = {'Fan': 200, 'Bulb':150, 'Led':1000}  \n",
    "\n",
    "# Calling function  \n",
    "stock = einventory.values()  \n",
    "\n",
    "# Displaying result  \n",
    "print(\"Stock available\",einventory)  \n"
   ]
  },
  {
   "cell_type": "code",
   "execution_count": null,
   "metadata": {},
   "outputs": [],
   "source": []
  }
 ],
 "metadata": {
  "kernelspec": {
   "display_name": "Python 3",
   "language": "python",
   "name": "python3"
  },
  "language_info": {
   "codemirror_mode": {
    "name": "ipython",
    "version": 3
   },
   "file_extension": ".py",
   "mimetype": "text/x-python",
   "name": "python",
   "nbconvert_exporter": "python",
   "pygments_lexer": "ipython3",
   "version": "3.7.6"
  }
 },
 "nbformat": 4,
 "nbformat_minor": 4
}
