{
 "cells": [
  {
   "cell_type": "markdown",
   "metadata": {},
   "source": [
    "# 12.Python File Handling"
   ]
  },
  {
   "cell_type": "markdown",
   "metadata": {},
   "source": [
    "* Till now, we were taking the input from the console and writing it back to the console to interact with the user.\n",
    "\n",
    "* Sometimes, it is not enough to only display the data on the console. The data to be displayed may be very large, and only a limited amount of data can be displayed on the console since the memory is volatile, it is impossible to recover the programmatically generated data again and again.\n",
    "\n",
    "* The file handling plays an important role when the data needs to be stored permanently into the file. A file is a named location on disk to store related information. We can access the stored information (non-volatile) after the program termination.\n",
    "\n"
   ]
  },
  {
   "cell_type": "markdown",
   "metadata": {},
   "source": [
    "<img src='5.png'/>"
   ]
  },
  {
   "cell_type": "code",
   "execution_count": 2,
   "metadata": {},
   "outputs": [
    {
     "name": "stdout",
     "output_type": "stream",
     "text": [
      "file is opened successfully\n"
     ]
    }
   ],
   "source": [
    "#opens the file file.txt in read mode    \n",
    "karthi = open(\"last.txt\",\"r\")    \n",
    "    \n",
    "if karthi:    \n",
    "    print(\"file is opened successfully\")    "
   ]
  },
  {
   "cell_type": "code",
   "execution_count": 3,
   "metadata": {},
   "outputs": [
    {
     "name": "stdout",
     "output_type": "stream",
     "text": [
      "file is opened successfully\n"
     ]
    }
   ],
   "source": [
    "# opens the file file.txt in read mode    \n",
    "fileptr = open(\"last.txt\",\"r\")    \n",
    "    \n",
    "if fileptr:    \n",
    "    print(\"file is opened successfully\")    \n",
    "    \n",
    "#closes the opened file    \n",
    "fileptr.close()  "
   ]
  },
  {
   "cell_type": "code",
   "execution_count": 6,
   "metadata": {},
   "outputs": [
    {
     "name": "stdout",
     "output_type": "stream",
     "text": [
      "SELECT Track.title, Artist.name, Album.title, Genre.name \n",
      "    FROM Track JOIN Genre JOIN Album JOIN Artist \n",
      "    ON Track.genre_id = Genre.ID and Track.album_id = Album.id \n",
      "        AND Album.artist_id = Artist.id\n",
      "    ORDER BY Artist.name LIMIT 3\n"
     ]
    }
   ],
   "source": [
    "with open(\"last.txt\",'r') as f:    \n",
    "    content = f.read();    \n",
    "    print(content)    "
   ]
  },
  {
   "cell_type": "code",
   "execution_count": 7,
   "metadata": {},
   "outputs": [
    {
     "name": "stdout",
     "output_type": "stream",
     "text": [
      "SELECT Track.title, Artist.name, Album.title, Genre.name \n",
      "    FROM Track JOIN Genre JOIN Album JOIN Artist \n",
      "    ON Track.genre_id = Genre.ID and Track.album_id = Album.id \n",
      "        AND Album.artist_id = Artist.id\n",
      "    ORDER BY Artist.name LIMIT 3\n"
     ]
    }
   ],
   "source": [
    "# opens the file file.txt in read mode    \n",
    "fileptr = open(\"last.txt\",\"r\")    \n",
    "    \n",
    "content = fileptr.read();    \n",
    "print(content)    \n",
    "#closes the opened file    \n",
    "fileptr.close()  "
   ]
  },
  {
   "cell_type": "code",
   "execution_count": 17,
   "metadata": {},
   "outputs": [],
   "source": [
    "fileptr = open(\"one.txt\", \"w\")  \n",
    "  \n",
    "# appending the content to the file  \n",
    "fileptr.write('''''hi karthi''')  \n",
    "  \n",
    "# closing the opened the file  \n",
    "fileptr.close()  "
   ]
  },
  {
   "cell_type": "code",
   "execution_count": 21,
   "metadata": {},
   "outputs": [
    {
     "name": "stdout",
     "output_type": "stream",
     "text": [
      "\n"
     ]
    }
   ],
   "source": [
    "#open the file.txt in write mode.    \n",
    "fileptr = open(\"one.txt\",\"r+\")  \n",
    "    \n",
    "#overwriting the content of the file    \n",
    "fileptr.write(\" Python has an easy syntax and user-friendly interaction.\")\n",
    "\n",
    "content = fileptr.read();    \n",
    "print(content)    \n",
    "\n",
    "#closing the opened file     \n",
    "fileptr.close()  "
   ]
  },
  {
   "cell_type": "code",
   "execution_count": 23,
   "metadata": {},
   "outputs": [
    {
     "name": "stdout",
     "output_type": "stream",
     "text": [
      "<class 'str'>\n",
      " Python ha\n"
     ]
    }
   ],
   "source": [
    "#open the file.txt in read mode. causes error if no such file exists.    \n",
    "fileptr = open(\"one.txt\",\"r\")  \n",
    "\n",
    "#stores all the data of the file into the variable content    \n",
    "content = fileptr.read(10)   \n",
    "\n",
    "# prints the type of the data stored in the file    \n",
    "print(type(content))   \n",
    "\n",
    "#prints the content of the file    \n",
    "print(content)     \n",
    "\n",
    "#closes the opened file    \n",
    "fileptr.close()    "
   ]
  },
  {
   "cell_type": "code",
   "execution_count": 24,
   "metadata": {},
   "outputs": [
    {
     "name": "stdout",
     "output_type": "stream",
     "text": [
      " Python has an easy syntax and user-friendly interaction.\n"
     ]
    }
   ],
   "source": [
    "#open the file.txt in read mode. causes an error if no such file exists.    \n",
    "fileptr = open(\"one.txt\",\"r\");     \n",
    "#running a for loop     \n",
    "for i in fileptr:    \n",
    "    print(i) # i contains each line of the file     "
   ]
  },
  {
   "cell_type": "code",
   "execution_count": 25,
   "metadata": {},
   "outputs": [
    {
     "name": "stdout",
     "output_type": "stream",
     "text": [
      " Python has an easy syntax and user-friendly interaction.\n",
      "\n"
     ]
    }
   ],
   "source": [
    "#open the file.txt in read mode. causes error if no such file exists.    \n",
    "fileptr = open(\"one.txt\",\"r\");     \n",
    "\n",
    "#stores all the data of the file into the variable content    \n",
    "content = fileptr.readline()     \n",
    "\n",
    "content1 = fileptr.readline()  \n",
    "\n",
    "#prints the content of the file    \n",
    "print(content)     \n",
    "\n",
    "print(content1)  \n",
    "\n",
    "#closes the opened file    \n",
    "fileptr.close()    "
   ]
  },
  {
   "cell_type": "code",
   "execution_count": 26,
   "metadata": {},
   "outputs": [
    {
     "name": "stdout",
     "output_type": "stream",
     "text": [
      "[' Python has an easy syntax and user-friendly interaction.']\n"
     ]
    }
   ],
   "source": [
    "#open the file.txt in read mode. causes error if no such file exists.    \n",
    "fileptr = open(\"one.txt\",\"r\");     \n",
    "    \n",
    "#stores all the data of the file into the variable content    \n",
    "content = fileptr.readlines()     \n",
    "  \n",
    "#prints the content of the file    \n",
    "print(content)     \n",
    "    \n",
    "#closes the opened file    \n",
    "fileptr.close()    "
   ]
  },
  {
   "cell_type": "code",
   "execution_count": 27,
   "metadata": {},
   "outputs": [
    {
     "name": "stdout",
     "output_type": "stream",
     "text": [
      "<_io.TextIOWrapper name='file2.txt' mode='x' encoding='cp1252'>\n",
      "File created successfully\n"
     ]
    }
   ],
   "source": [
    "#open the file.txt in read mode. causes error if no such file exists.    \n",
    "fileptr = open(\"file2.txt\",\"x\")   \n",
    "print(fileptr)    \n",
    "if fileptr:    \n",
    "    print(\"File created successfully\")  "
   ]
  },
  {
   "cell_type": "code",
   "execution_count": 32,
   "metadata": {},
   "outputs": [
    {
     "name": "stdout",
     "output_type": "stream",
     "text": [
      "The filepointer is at byte : 0\n",
      "After reading, the filepointer is at: 57\n"
     ]
    }
   ],
   "source": [
    "# open the file file2.txt in read mode    \n",
    "fileptr = open(\"one.txt\",\"r\")    \n",
    "  \n",
    "#initially the filepointer is at 0     \n",
    "print(\"The filepointer is at byte :\",fileptr.tell())    \n",
    "    \n",
    "#reading the content of the file    \n",
    "content = fileptr.read();    \n",
    "    \n",
    "#after the read operation file pointer modifies. tell() returns the location of the fileptr.     \n",
    "    \n",
    "print(\"After reading, the filepointer is at:\",fileptr.tell())    \n",
    "    "
   ]
  },
  {
   "cell_type": "code",
   "execution_count": 33,
   "metadata": {},
   "outputs": [],
   "source": [
    "import os    \n",
    "    \n",
    "#rename file2.txt to file3.txt    \n",
    "os.rename(\"file2.txt\",\"file3.txt\")  "
   ]
  },
  {
   "cell_type": "code",
   "execution_count": 34,
   "metadata": {},
   "outputs": [],
   "source": [
    "import os;    \n",
    "#deleting the file named file3.txt     \n",
    "os.remove(\"file3.txt\")    "
   ]
  },
  {
   "cell_type": "code",
   "execution_count": 35,
   "metadata": {},
   "outputs": [],
   "source": [
    "import os    \n",
    "    \n",
    "#creating a new directory with the name new    \n",
    "os.mkdir(\"new\")    "
   ]
  },
  {
   "cell_type": "code",
   "execution_count": 36,
   "metadata": {},
   "outputs": [
    {
     "data": {
      "text/plain": [
       "'C:\\\\Users\\\\JAIKUMAR\\\\Desktop\\\\karthi'"
      ]
     },
     "execution_count": 36,
     "metadata": {},
     "output_type": "execute_result"
    }
   ],
   "source": [
    "import os  \n",
    "os.getcwd()  "
   ]
  },
  {
   "cell_type": "code",
   "execution_count": 37,
   "metadata": {},
   "outputs": [
    {
     "data": {
      "text/plain": [
       "'C:\\\\Users\\\\JAIKUMAR\\\\Desktop\\\\karthi'"
      ]
     },
     "execution_count": 37,
     "metadata": {},
     "output_type": "execute_result"
    }
   ],
   "source": [
    "import os   \n",
    "# Changing current directory with the new directiory  \n",
    "os.chdir(\"C:\\\\Users\\\\JAIKUMAR\\\\Desktop\\\\karthi\")  \n",
    "#It will display the current working directory  \n",
    "os.getcwd()  "
   ]
  },
  {
   "cell_type": "code",
   "execution_count": 38,
   "metadata": {},
   "outputs": [],
   "source": [
    "import os  \n",
    "#removing the new directory     \n",
    "os.rmdir(\"new\")    "
   ]
  },
  {
   "cell_type": "code",
   "execution_count": 39,
   "metadata": {},
   "outputs": [
    {
     "name": "stdout",
     "output_type": "stream",
     "text": [
      "50.0\n",
      "-4.0\n",
      "That temperature doesn't make sense!\n",
      "212.0\n"
     ]
    }
   ],
   "source": [
    "temperatures=[10,-20,-289,100]    \n",
    "def c_to_f(c):    \n",
    "    if c< -273.15:    \n",
    "        return \"That temperature doesn't make sense!\"    \n",
    "    else:    \n",
    "        f=c*9/5+32    \n",
    "        return f    \n",
    "for t in temperatures:    \n",
    "    print(c_to_f(t))   "
   ]
  },
  {
   "cell_type": "code",
   "execution_count": 40,
   "metadata": {},
   "outputs": [],
   "source": [
    "import subprocess    \n",
    "    \n",
    "with open(\"output.txt\", \"wb\") as f:    \n",
    "    subprocess.check_call([\"python\", \"file.py\"], stdout=f)    "
   ]
  },
  {
   "cell_type": "markdown",
   "metadata": {},
   "source": [
    "<img src=\"6.png\"/>"
   ]
  },
  {
   "cell_type": "code",
   "execution_count": null,
   "metadata": {},
   "outputs": [],
   "source": []
  }
 ],
 "metadata": {
  "kernelspec": {
   "display_name": "Python 3",
   "language": "python",
   "name": "python3"
  },
  "language_info": {
   "codemirror_mode": {
    "name": "ipython",
    "version": 3
   },
   "file_extension": ".py",
   "mimetype": "text/x-python",
   "name": "python",
   "nbconvert_exporter": "python",
   "pygments_lexer": "ipython3",
   "version": "3.7.6"
  }
 },
 "nbformat": 4,
 "nbformat_minor": 4
}
