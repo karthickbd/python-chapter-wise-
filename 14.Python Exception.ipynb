{
 "cells": [
  {
   "cell_type": "markdown",
   "metadata": {},
   "source": [
    "# 14.Python Exception"
   ]
  },
  {
   "cell_type": "markdown",
   "metadata": {},
   "source": [
    "* An exception can be defined as an unusual condition in a program resulting in the interruption in the flow of the program.\n",
    "\n",
    "* Whenever an exception occurs, the program stops the execution, and thus the further code is not executed. Therefore, an exception is the run-time errors that are unable to handle to Python script. An exception is a Python object that represents an error\n",
    "\n",
    "* Python provides a way to handle the exception so that the code can be executed without any interruption. If we do not handle the exception, the interpreter doesn't execute all the code that exists after the exception."
   ]
  },
  {
   "cell_type": "markdown",
   "metadata": {},
   "source": [
    "#### Common Exeception "
   ]
  },
  {
   "cell_type": "markdown",
   "metadata": {},
   "source": [
    "* 1.<b>ZeroDivisionError:</b> Occurs when a number is divided by zero.\n",
    "* 2.<b>NameError:</b> It occurs when a name is not found. It may be local or global.\n",
    "* 3.<b>IndentationError:</b> If incorrect indentation is given.\n",
    "* 4.<b>IOError:</b> It occurs when Input Output operation fails.\n",
    "* 5.<b>EOFError:</b> It occurs when the end of the file is reached, and yet operations are being performed."
   ]
  },
  {
   "cell_type": "code",
   "execution_count": 5,
   "metadata": {},
   "outputs": [
    {
     "name": "stdout",
     "output_type": "stream",
     "text": [
      "Enter a:5\n",
      "Enter b:0\n"
     ]
    },
    {
     "ename": "ZeroDivisionError",
     "evalue": "division by zero",
     "output_type": "error",
     "traceback": [
      "\u001b[1;31m---------------------------------------------------------------------------\u001b[0m",
      "\u001b[1;31mZeroDivisionError\u001b[0m                         Traceback (most recent call last)",
      "\u001b[1;32m<ipython-input-5-a104c1c193bd>\u001b[0m in \u001b[0;36m<module>\u001b[1;34m\u001b[0m\n\u001b[0;32m      1\u001b[0m \u001b[0ma\u001b[0m \u001b[1;33m=\u001b[0m \u001b[0mint\u001b[0m\u001b[1;33m(\u001b[0m\u001b[0minput\u001b[0m\u001b[1;33m(\u001b[0m\u001b[1;34m\"Enter a:\"\u001b[0m\u001b[1;33m)\u001b[0m\u001b[1;33m)\u001b[0m\u001b[1;33m\u001b[0m\u001b[1;33m\u001b[0m\u001b[0m\n\u001b[0;32m      2\u001b[0m \u001b[0mb\u001b[0m \u001b[1;33m=\u001b[0m \u001b[0mint\u001b[0m\u001b[1;33m(\u001b[0m\u001b[0minput\u001b[0m\u001b[1;33m(\u001b[0m\u001b[1;34m\"Enter b:\"\u001b[0m\u001b[1;33m)\u001b[0m\u001b[1;33m)\u001b[0m\u001b[1;33m\u001b[0m\u001b[1;33m\u001b[0m\u001b[0m\n\u001b[1;32m----> 3\u001b[1;33m \u001b[0mc\u001b[0m \u001b[1;33m=\u001b[0m \u001b[0ma\u001b[0m\u001b[1;33m/\u001b[0m\u001b[0mb\u001b[0m\u001b[1;33m\u001b[0m\u001b[1;33m\u001b[0m\u001b[0m\n\u001b[0m\u001b[0;32m      4\u001b[0m \u001b[0mprint\u001b[0m\u001b[1;33m(\u001b[0m\u001b[1;34m\"a/b = %d\"\u001b[0m \u001b[1;33m%\u001b[0m\u001b[0mc\u001b[0m\u001b[1;33m)\u001b[0m\u001b[1;33m\u001b[0m\u001b[1;33m\u001b[0m\u001b[0m\n\u001b[0;32m      5\u001b[0m \u001b[1;33m\u001b[0m\u001b[0m\n",
      "\u001b[1;31mZeroDivisionError\u001b[0m: division by zero"
     ]
    }
   ],
   "source": [
    "a = int(input(\"Enter a:\"))    \n",
    "b = int(input(\"Enter b:\"))    \n",
    "c = a/b  \n",
    "print(\"a/b = %d\" %c)    \n",
    "    \n",
    "#other code:    \n",
    "print(\"Hi I am other part of the program\")  "
   ]
  },
  {
   "cell_type": "code",
   "execution_count": 6,
   "metadata": {},
   "outputs": [
    {
     "name": "stdout",
     "output_type": "stream",
     "text": [
      "Enter a:5\n",
      "Enter b:0\n",
      "Can't divide with zero\n"
     ]
    }
   ],
   "source": [
    "try:  \n",
    "    a = int(input(\"Enter a:\"))    \n",
    "    b = int(input(\"Enter b:\"))    \n",
    "    c = a/b  \n",
    "except:  \n",
    "    print(\"Can't divide with zero\")  "
   ]
  },
  {
   "cell_type": "code",
   "execution_count": 10,
   "metadata": {},
   "outputs": [
    {
     "name": "stdout",
     "output_type": "stream",
     "text": [
      "Enter a:5\n",
      "Enter b:0\n",
      "can't divide by zero\n",
      "<class 'Exception'>\n"
     ]
    }
   ],
   "source": [
    "try:    \n",
    "    a = int(input(\"Enter a:\"))    \n",
    "    b = int(input(\"Enter b:\"))    \n",
    "    c = a/b  \n",
    "    print(\"a/b = %d\"%c)    \n",
    "    \n",
    "    \n",
    "# Using Exception with except statement. If we print(Exception) it will return exception class  \n",
    "except Exception:    \n",
    "    print(\"can't divide by zero\")    \n",
    "    print(Exception)  \n",
    "else:    \n",
    "    print(\"Hi I am else block\")     "
   ]
  },
  {
   "cell_type": "code",
   "execution_count": 11,
   "metadata": {},
   "outputs": [
    {
     "name": "stdout",
     "output_type": "stream",
     "text": [
      "Enter a:5\n",
      "Enter b:2\n",
      "a/b = 2\n",
      "Hi I am else block\n"
     ]
    }
   ],
   "source": [
    "try:    \n",
    "    a = int(input(\"Enter a:\"))    \n",
    "    b = int(input(\"Enter b:\"))    \n",
    "    c = a/b;    \n",
    "    print(\"a/b = %d\"%c)    \n",
    "except:    \n",
    "    print(\"can't divide by zero\")    \n",
    "else:    \n",
    "    print(\"Hi I am else block\")     "
   ]
  },
  {
   "cell_type": "code",
   "execution_count": 12,
   "metadata": {},
   "outputs": [
    {
     "name": "stdout",
     "output_type": "stream",
     "text": [
      "Enter a:5\n",
      "Enter b:0\n",
      "can't divide by zero\n",
      "division by zero\n"
     ]
    }
   ],
   "source": [
    "try:    \n",
    "    a = int(input(\"Enter a:\"))    \n",
    "    b = int(input(\"Enter b:\"))    \n",
    "    c = a/b  \n",
    "    print(\"a/b = %d\"%c)    \n",
    "    # Using exception object with the except statement  \n",
    "except Exception as karthi:    \n",
    "    print(\"can't divide by zero\")    \n",
    "    print(karthi)  \n",
    "else:    \n",
    "    print(\"Hi I am else block\")     "
   ]
  },
  {
   "cell_type": "code",
   "execution_count": 14,
   "metadata": {},
   "outputs": [
    {
     "name": "stdout",
     "output_type": "stream",
     "text": [
      "karthi File not found\n"
     ]
    }
   ],
   "source": [
    "try:    \n",
    "    #this will throw an exception if the file doesn't exist.     \n",
    "    fileptr = open(\"file.txt\",\"r\")    \n",
    "except IOError:    \n",
    "    print(\"karthi File not found\")    \n",
    "else:    \n",
    "    print(\"The file opened successfully\")    \n",
    "    fileptr.close()    "
   ]
  },
  {
   "cell_type": "code",
   "execution_count": 16,
   "metadata": {},
   "outputs": [
    {
     "name": "stdout",
     "output_type": "stream",
     "text": [
      "Arithmetic Exception\n",
      "<class 'ArithmeticError'>\n"
     ]
    }
   ],
   "source": [
    "try:      \n",
    "    a=10/0;      \n",
    "except(ArithmeticError, IOError):      \n",
    "    print(\"Arithmetic Exception\") \n",
    "else:      \n",
    "    print(\"Successfully Done\")       "
   ]
  },
  {
   "cell_type": "code",
   "execution_count": 17,
   "metadata": {},
   "outputs": [
    {
     "name": "stdout",
     "output_type": "stream",
     "text": [
      "Error\n"
     ]
    }
   ],
   "source": [
    "try:    \n",
    "    fileptr = open(\"file2.txt\",\"r\")      \n",
    "    try:    \n",
    "        fileptr.write(\"Hi I am good\")    \n",
    "    finally:    \n",
    "        fileptr.close()    \n",
    "        print(\"file closed\")    \n",
    "except:    \n",
    "    print(\"Error\")    \n"
   ]
  },
  {
   "cell_type": "code",
   "execution_count": 20,
   "metadata": {},
   "outputs": [
    {
     "name": "stdout",
     "output_type": "stream",
     "text": [
      "Enter the age:17\n",
      "The age is not valid\n"
     ]
    }
   ],
   "source": [
    "try:    \n",
    "    age = int(input(\"Enter the age:\"))    \n",
    "    if(age<18):    \n",
    "        raise ValueError   \n",
    "    else:    \n",
    "        print(\"the age is valid\")    \n",
    "except ValueError:    \n",
    "    print(\"The age is not valid\")    \n",
    "    \n",
    "    \n",
    "    "
   ]
  },
  {
   "cell_type": "code",
   "execution_count": 23,
   "metadata": {},
   "outputs": [
    {
     "name": "stdout",
     "output_type": "stream",
     "text": [
      "Enter a positive integer: -10\n",
      "That is  a negative number!\n"
     ]
    }
   ],
   "source": [
    "try:  \n",
    "    num = int(input(\"Enter a positive integer: \"))  \n",
    "    if(num <= 0):  \n",
    "# we can pass the message in the raise statement  \n",
    "        raise ValueError(\"That is  a negative number!\")  \n",
    "    \n",
    "except ValueError as e:  \n",
    "     print(e)  "
   ]
  },
  {
   "cell_type": "code",
   "execution_count": 24,
   "metadata": {},
   "outputs": [
    {
     "name": "stdout",
     "output_type": "stream",
     "text": [
      "Enter a:10\n",
      "Enter b:0\n",
      "The value of b can't be 0\n"
     ]
    }
   ],
   "source": [
    "try:    \n",
    "    a = int(input(\"Enter a:\"))    \n",
    "    b = int(input(\"Enter b:\"))    \n",
    "    if b is 0:    \n",
    "        raise ArithmeticError  \n",
    "    else:    \n",
    "        print(\"a/b = \",a/b)    \n",
    "        \n",
    "except ArithmeticError:    \n",
    "    print(\"The value of b can't be 0\")  "
   ]
  },
  {
   "cell_type": "code",
   "execution_count": 25,
   "metadata": {},
   "outputs": [
    {
     "name": "stdout",
     "output_type": "stream",
     "text": [
      "Received error: 2000\n"
     ]
    }
   ],
   "source": [
    "class ErrorInCode(Exception):      \n",
    "    def __init__(self, data):      \n",
    "        self.data = data      \n",
    "    def __str__(self):      \n",
    "        return repr(self.data)      \n",
    "      \n",
    "try:      \n",
    "    raise ErrorInCode(2000)      \n",
    "except ErrorInCode as ae:      \n",
    "    print(\"Received error:\", ae.data)   "
   ]
  },
  {
   "cell_type": "code",
   "execution_count": null,
   "metadata": {},
   "outputs": [],
   "source": []
  }
 ],
 "metadata": {
  "kernelspec": {
   "display_name": "Python 3",
   "language": "python",
   "name": "python3"
  },
  "language_info": {
   "codemirror_mode": {
    "name": "ipython",
    "version": 3
   },
   "file_extension": ".py",
   "mimetype": "text/x-python",
   "name": "python",
   "nbconvert_exporter": "python",
   "pygments_lexer": "ipython3",
   "version": "3.7.6"
  }
 },
 "nbformat": 4,
 "nbformat_minor": 4
}
