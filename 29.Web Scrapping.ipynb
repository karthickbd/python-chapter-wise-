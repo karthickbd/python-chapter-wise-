{
 "cells": [
  {
   "cell_type": "markdown",
   "metadata": {},
   "source": [
    "# 29.Web Scrapping"
   ]
  },
  {
   "cell_type": "code",
   "execution_count": 15,
   "metadata": {},
   "outputs": [
    {
     "name": "stdout",
     "output_type": "stream",
     "text": [
      "page1.htm\n",
      "<a href=\"page1.htm\">\n",
      "First Page</a>\n"
     ]
    }
   ],
   "source": [
    "import urllib.request as req\n",
    "\n",
    "from bs4 import BeautifulSoup\n",
    "\n",
    "address=\"http://www.dr-chuck.com/page2.html\"\n",
    "while True:\n",
    "    data=req.urlopen(address).read()\n",
    "    if data:\n",
    "        break\n",
    "\n",
    "karthi=BeautifulSoup(data,'html.parser')\n",
    "al=karthi('a')\n",
    "for b in al:\n",
    "    print(b.get('href','not available'))\n",
    "    print(b)"
   ]
  },
  {
   "cell_type": "code",
   "execution_count": 12,
   "metadata": {},
   "outputs": [
    {
     "name": "stdout",
     "output_type": "stream",
     "text": [
      "/images/colorpicker.png\n",
      "w3css_templates.jpg\n",
      "getcertified.jpg\n"
     ]
    }
   ],
   "source": [
    "import urllib.request as req\n",
    "from bs4 import BeautifulSoup\n",
    "address=\"https://www.w3schools.com/default.asp\"\n",
    "while True:\n",
    "    data=req.urlopen(address).read()\n",
    "    if data:\n",
    "        break\n",
    "\n",
    "soup=BeautifulSoup(data,'html.parser')\n",
    "al=soup('img')\n",
    "for b in al:\n",
    "    print(b.get('src'))\n"
   ]
  },
  {
   "cell_type": "code",
   "execution_count": 23,
   "metadata": {},
   "outputs": [
    {
     "name": "stdout",
     "output_type": "stream",
     "text": [
      "0\n"
     ]
    }
   ],
   "source": [
    "import urllib.request as req\n",
    "from bs4 import BeautifulSoup\n",
    "address=\"http://py4e-data.dr-chuck.net/comments_150898.html\"\n",
    "while True:\n",
    "    data=req.urlopen(address).read()\n",
    "    if data:\n",
    "        break\n",
    "\n",
    "\n",
    "\n",
    "soup=BeautifulSoup(data,'html.parser')\n",
    "al=soup('tbody')\n",
    "coun=0\n",
    "for b in al:\n",
    "    print(b.find('td').text,end=\"\\t\")\n",
    "\n",
    "    print(b.get_text(),end=\"\\t\")\n",
    "    coun+=int(b.text)\n",
    "\n",
    "\n",
    "\n",
    "\n",
    "#print(\"total\",end='=')    \n",
    "print(coun)\n"
   ]
  },
  {
   "cell_type": "code",
   "execution_count": 14,
   "metadata": {},
   "outputs": [
    {
     "name": "stdout",
     "output_type": "stream",
     "text": [
      "<a href=\"http://py4e-data.dr-chuck.net/known_by_Malaika.html\">Malaika</a><a href=\"http://py4e-data.dr-chuck.net/known_by_Ceol.html\">Ceol</a><a href=\"http://py4e-data.dr-chuck.net/known_by_Vaimante.html\">Vaimante</a><a href=\"http://py4e-data.dr-chuck.net/known_by_Emilyann.html\">Emilyann</a><a href=\"http://py4e-data.dr-chuck.net/known_by_Salsabeel.html\">Salsabeel</a><a href=\"http://py4e-data.dr-chuck.net/known_by_Ken.html\">Ken</a><a href=\"http://py4e-data.dr-chuck.net/known_by_Arunas.html\">Arunas</a><a href=\"http://py4e-data.dr-chuck.net/known_by_Lacy.html\">Lacy</a><a href=\"http://py4e-data.dr-chuck.net/known_by_Inan.html\">Inan</a><a href=\"http://py4e-data.dr-chuck.net/known_by_Sadiqa.html\">Sadiqa</a><a href=\"http://py4e-data.dr-chuck.net/known_by_Garry.html\">Garry</a><a href=\"http://py4e-data.dr-chuck.net/known_by_Francis.html\">Francis</a><a href=\"http://py4e-data.dr-chuck.net/known_by_Marcella.html\">Marcella</a><a href=\"http://py4e-data.dr-chuck.net/known_by_Makaila.html\">Makaila</a><a href=\"http://py4e-data.dr-chuck.net/known_by_Jasper.html\">Jasper</a><a href=\"http://py4e-data.dr-chuck.net/known_by_Leni.html\">Leni</a><a href=\"http://py4e-data.dr-chuck.net/known_by_Nial.html\">Nial</a><a href=\"http://py4e-data.dr-chuck.net/known_by_Hussain.html\">Hussain</a><a href=\"http://py4e-data.dr-chuck.net/known_by_Aminah.html\">Aminah</a><a href=\"http://py4e-data.dr-chuck.net/known_by_Sunehri.html\">Sunehri</a><a href=\"http://py4e-data.dr-chuck.net/known_by_Mirza.html\">Mirza</a><a href=\"http://py4e-data.dr-chuck.net/known_by_Macaulay.html\">Macaulay</a><a href=\"http://py4e-data.dr-chuck.net/known_by_Harvey.html\">Harvey</a><a href=\"http://py4e-data.dr-chuck.net/known_by_Shaylee.html\">Shaylee</a><a href=\"http://py4e-data.dr-chuck.net/known_by_Anika.html\">Anika</a><a href=\"http://py4e-data.dr-chuck.net/known_by_Rimal.html\">Rimal</a><a href=\"http://py4e-data.dr-chuck.net/known_by_Justine.html\">Justine</a><a href=\"http://py4e-data.dr-chuck.net/known_by_Pawlo.html\">Pawlo</a><a href=\"http://py4e-data.dr-chuck.net/known_by_Kyron.html\">Kyron</a><a href=\"http://py4e-data.dr-chuck.net/known_by_Regina.html\">Regina</a><a href=\"http://py4e-data.dr-chuck.net/known_by_Luc.html\">Luc</a><a href=\"http://py4e-data.dr-chuck.net/known_by_Monty.html\">Monty</a><a href=\"http://py4e-data.dr-chuck.net/known_by_Morgan.html\">Morgan</a><a href=\"http://py4e-data.dr-chuck.net/known_by_Reuben.html\">Reuben</a><a href=\"http://py4e-data.dr-chuck.net/known_by_Kieran.html\">Kieran</a><a href=\"http://py4e-data.dr-chuck.net/known_by_Zeeshan.html\">Zeeshan</a><a href=\"http://py4e-data.dr-chuck.net/known_by_Boni.html\">Boni</a><a href=\"http://py4e-data.dr-chuck.net/known_by_Reena.html\">Reena</a><a href=\"http://py4e-data.dr-chuck.net/known_by_Reng.html\">Reng</a><a href=\"http://py4e-data.dr-chuck.net/known_by_Tygan.html\">Tygan</a><a href=\"http://py4e-data.dr-chuck.net/known_by_Rayden.html\">Rayden</a><a href=\"http://py4e-data.dr-chuck.net/known_by_Caidy.html\">Caidy</a><a href=\"http://py4e-data.dr-chuck.net/known_by_Ciann.html\">Ciann</a><a href=\"http://py4e-data.dr-chuck.net/known_by_Kashif.html\">Kashif</a><a href=\"http://py4e-data.dr-chuck.net/known_by_Dannii.html\">Dannii</a><a href=\"http://py4e-data.dr-chuck.net/known_by_Rasul.html\">Rasul</a><a href=\"http://py4e-data.dr-chuck.net/known_by_Kieryn.html\">Kieryn</a><a href=\"http://py4e-data.dr-chuck.net/known_by_Malina.html\">Malina</a><a href=\"http://py4e-data.dr-chuck.net/known_by_Kirsten.html\">Kirsten</a><a href=\"http://py4e-data.dr-chuck.net/known_by_Mirran.html\">Mirran</a><a href=\"http://py4e-data.dr-chuck.net/known_by_Struan.html\">Struan</a><a href=\"http://py4e-data.dr-chuck.net/known_by_Alisha.html\">Alisha</a><a href=\"http://py4e-data.dr-chuck.net/known_by_Nikela.html\">Nikela</a><a href=\"http://py4e-data.dr-chuck.net/known_by_Lyla.html\">Lyla</a><a href=\"http://py4e-data.dr-chuck.net/known_by_Airen.html\">Airen</a><a href=\"http://py4e-data.dr-chuck.net/known_by_Richey.html\">Richey</a><a href=\"http://py4e-data.dr-chuck.net/known_by_Lennix.html\">Lennix</a><a href=\"http://py4e-data.dr-chuck.net/known_by_Fikret.html\">Fikret</a><a href=\"http://py4e-data.dr-chuck.net/known_by_Amberlouise.html\">Amberlouise</a><a href=\"http://py4e-data.dr-chuck.net/known_by_Jasmyn.html\">Jasmyn</a><a href=\"http://py4e-data.dr-chuck.net/known_by_Annalise.html\">Annalise</a><a href=\"http://py4e-data.dr-chuck.net/known_by_Kash.html\">Kash</a><a href=\"http://py4e-data.dr-chuck.net/known_by_Jaydon.html\">Jaydon</a><a href=\"http://py4e-data.dr-chuck.net/known_by_Gioia.html\">Gioia</a><a href=\"http://py4e-data.dr-chuck.net/known_by_Slsbil.html\">Slsbil</a><a href=\"http://py4e-data.dr-chuck.net/known_by_Sebastian.html\">Sebastian</a><a href=\"http://py4e-data.dr-chuck.net/known_by_Cody.html\">Cody</a><a href=\"http://py4e-data.dr-chuck.net/known_by_Kirsty.html\">Kirsty</a><a href=\"http://py4e-data.dr-chuck.net/known_by_Neil.html\">Neil</a><a href=\"http://py4e-data.dr-chuck.net/known_by_Adegbolahan.html\">Adegbolahan</a><a href=\"http://py4e-data.dr-chuck.net/known_by_Ioanna.html\">Ioanna</a><a href=\"http://py4e-data.dr-chuck.net/known_by_Eddie.html\">Eddie</a><a href=\"http://py4e-data.dr-chuck.net/known_by_Kaileb.html\">Kaileb</a><a href=\"http://py4e-data.dr-chuck.net/known_by_Oswald.html\">Oswald</a><a href=\"http://py4e-data.dr-chuck.net/known_by_Kalise.html\">Kalise</a><a href=\"http://py4e-data.dr-chuck.net/known_by_Elliana.html\">Elliana</a><a href=\"http://py4e-data.dr-chuck.net/known_by_Malika.html\">Malika</a><a href=\"http://py4e-data.dr-chuck.net/known_by_Kerrieann.html\">Kerrieann</a><a href=\"http://py4e-data.dr-chuck.net/known_by_Kaylynn.html\">Kaylynn</a><a href=\"http://py4e-data.dr-chuck.net/known_by_Koddi.html\">Koddi</a><a href=\"http://py4e-data.dr-chuck.net/known_by_Rania.html\">Rania</a><a href=\"http://py4e-data.dr-chuck.net/known_by_Elaina.html\">Elaina</a><a href=\"http://py4e-data.dr-chuck.net/known_by_Elysse.html\">Elysse</a><a href=\"http://py4e-data.dr-chuck.net/known_by_Vanni.html\">Vanni</a><a href=\"http://py4e-data.dr-chuck.net/known_by_Laurie.html\">Laurie</a><a href=\"http://py4e-data.dr-chuck.net/known_by_Islay.html\">Islay</a><a href=\"http://py4e-data.dr-chuck.net/known_by_Cailyne.html\">Cailyne</a><a href=\"http://py4e-data.dr-chuck.net/known_by_Maximillian.html\">Maximillian</a><a href=\"http://py4e-data.dr-chuck.net/known_by_Arda.html\">Arda</a><a href=\"http://py4e-data.dr-chuck.net/known_by_Bjorn.html\">Bjorn</a><a href=\"http://py4e-data.dr-chuck.net/known_by_Cephas.html\">Cephas</a><a href=\"http://py4e-data.dr-chuck.net/known_by_Abdulkarem.html\">Abdulkarem</a><a href=\"http://py4e-data.dr-chuck.net/known_by_Zunairah.html\">Zunairah</a><a href=\"http://py4e-data.dr-chuck.net/known_by_Alyessa.html\">Alyessa</a><a href=\"http://py4e-data.dr-chuck.net/known_by_Janna.html\">Janna</a><a href=\"http://py4e-data.dr-chuck.net/known_by_Declyan.html\">Declyan</a><a href=\"http://py4e-data.dr-chuck.net/known_by_Remi.html\">Remi</a><a href=\"http://py4e-data.dr-chuck.net/known_by_Aneesah.html\">Aneesah</a><a href=\"http://py4e-data.dr-chuck.net/known_by_Aisling.html\">Aisling</a><a href=\"http://py4e-data.dr-chuck.net/known_by_Stephenjunior.html\">Stephenjunior</a>"
     ]
    }
   ],
   "source": [
    "import urllib.request as req\n",
    "from bs4 import BeautifulSoup\n",
    "address=\"http://py4e-data.dr-chuck.net/known_by_Kelso.html\"\n",
    "while True:\n",
    "    data=req.urlopen(address).read()\n",
    "    if data:\n",
    "        break\n",
    "\n",
    "soup=BeautifulSoup(data,'html.parser')\n",
    "a=soup('a')\n",
    "\n",
    "for hf in a:\n",
    "    print(hf,end=\"\")\n",
    "        \n",
    "      \n"
   ]
  },
  {
   "cell_type": "code",
   "execution_count": null,
   "metadata": {},
   "outputs": [],
   "source": []
  }
 ],
 "metadata": {
  "kernelspec": {
   "display_name": "Python 3",
   "language": "python",
   "name": "python3"
  },
  "language_info": {
   "codemirror_mode": {
    "name": "ipython",
    "version": 3
   },
   "file_extension": ".py",
   "mimetype": "text/x-python",
   "name": "python",
   "nbconvert_exporter": "python",
   "pygments_lexer": "ipython3",
   "version": "3.7.6"
  }
 },
 "nbformat": 4,
 "nbformat_minor": 4
}
