{
 "cells": [
  {
   "cell_type": "markdown",
   "metadata": {},
   "source": [
    "# 9.Functions "
   ]
  },
  {
   "cell_type": "markdown",
   "metadata": {},
   "source": [
    "* Functions are the most important aspect of an application. A function can be defined as the organized block of reusable code, which can be called whenever required."
   ]
  },
  {
   "cell_type": "markdown",
   "metadata": {},
   "source": [
    "* <b>User-define functions</b> - The user-defined functions are those define by the user to perform the specific task.\n",
    "* <b>Built-in functions</b> - The built-in functions are those functions that are pre-defined in Python."
   ]
  },
  {
   "cell_type": "code",
   "execution_count": null,
   "metadata": {},
   "outputs": [],
   "source": [
    "def fuction_name(parameter):\n",
    "    return type\n",
    "\n",
    "\n",
    "\n",
    "function()"
   ]
  },
  {
   "cell_type": "code",
   "execution_count": 6,
   "metadata": {},
   "outputs": [],
   "source": [
    "def simbu():  \n",
    "     for i in range(0,10):\n",
    "            print(i)\n"
   ]
  },
  {
   "cell_type": "code",
   "execution_count": 7,
   "metadata": {},
   "outputs": [
    {
     "name": "stdout",
     "output_type": "stream",
     "text": [
      "0\n",
      "1\n",
      "2\n",
      "3\n",
      "4\n",
      "5\n",
      "6\n",
      "7\n",
      "8\n",
      "9\n"
     ]
    }
   ],
   "source": [
    "simbu()"
   ]
  },
  {
   "cell_type": "code",
   "execution_count": 10,
   "metadata": {},
   "outputs": [
    {
     "name": "stdout",
     "output_type": "stream",
     "text": [
      "hello world\n"
     ]
    }
   ],
   "source": [
    "#function definition  \n",
    "def hello_world():    \n",
    "    print(\"hello world\")    \n",
    "# function calling  \n",
    "hello_world()      "
   ]
  },
  {
   "cell_type": "code",
   "execution_count": 14,
   "metadata": {},
   "outputs": [
    {
     "name": "stdout",
     "output_type": "stream",
     "text": [
      "The sum is: 30\n"
     ]
    }
   ],
   "source": [
    "# Defining function  \n",
    "def sum():  \n",
    "    a = 10  \n",
    "    b = 20  \n",
    "    c = a+b  \n",
    "    \n",
    "    return c  \n",
    "\n",
    "\n",
    "# calling sum() function in print statement  \n",
    "print(\"The sum is:\",sum())  "
   ]
  },
  {
   "cell_type": "code",
   "execution_count": 15,
   "metadata": {},
   "outputs": [
    {
     "name": "stdout",
     "output_type": "stream",
     "text": [
      "None\n"
     ]
    }
   ],
   "source": [
    "def sum():  \n",
    "    a = 10  \n",
    "    b = 20  \n",
    "    c = a+b \n",
    "\n",
    "# calling sum() function in print statement  \n",
    "print(sum())  "
   ]
  },
  {
   "cell_type": "code",
   "execution_count": 18,
   "metadata": {},
   "outputs": [
    {
     "name": "stdout",
     "output_type": "stream",
     "text": [
      "Hi  5\n"
     ]
    }
   ],
   "source": [
    "#defining the function    \n",
    "def func(ramya):    \n",
    "    print(\"Hi \",ramya)   \n",
    "    \n",
    "#calling the function     \n",
    "func(5)     "
   ]
  },
  {
   "cell_type": "code",
   "execution_count": 19,
   "metadata": {},
   "outputs": [
    {
     "name": "stdout",
     "output_type": "stream",
     "text": [
      "Enter a: 20\n",
      "Enter b: 10\n",
      "Sum =  30\n"
     ]
    }
   ],
   "source": [
    "#Python function to calculate the sum of two variables     \n",
    "#defining the function    \n",
    "def sum (a,b):    \n",
    "    return a+b;    \n",
    "    \n",
    "#taking values from the user    \n",
    "a = int(input(\"Enter a: \"))    \n",
    "\n",
    "b = int(input(\"Enter b: \"))    \n",
    "    \n",
    "#printing the sum of a and b    \n",
    "print(\"Sum = \",sum(a,b))    \n"
   ]
  },
  {
   "cell_type": "markdown",
   "metadata": {},
   "source": [
    "* Call by reference in Python"
   ]
  },
  {
   "cell_type": "code",
   "execution_count": 20,
   "metadata": {},
   "outputs": [
    {
     "name": "stdout",
     "output_type": "stream",
     "text": [
      "list inside function =  [10, 30, 40, 50, 20, 30]\n",
      "list outside function =  [10, 30, 40, 50, 20, 30]\n"
     ]
    }
   ],
   "source": [
    "#defining the function    \n",
    "def change_list(list1):    \n",
    "    list1.append(20)   \n",
    "    list1.append(30)    \n",
    "    print(\"list inside function = \",list1)    \n",
    "    \n",
    "#defining the list    \n",
    "list1 = [10,30,40,50]    \n",
    "    \n",
    "#calling the function     \n",
    "change_list(list1)  \n",
    "\n",
    "print(\"list outside function = \",list1)  \n"
   ]
  },
  {
   "cell_type": "code",
   "execution_count": 22,
   "metadata": {},
   "outputs": [
    {
     "name": "stdout",
     "output_type": "stream",
     "text": [
      "printing the string inside function : Hi I am there Hows you \n",
      "printing the string outside function : Hi I am there\n"
     ]
    }
   ],
   "source": [
    "#defining the function    \n",
    "def change_string (str):    \n",
    "    str = str + \" Hows you \"  \n",
    "    print(\"printing the string inside function :\",str)  \n",
    "    \n",
    "string1 = \"Hi I am there\"    \n",
    "    \n",
    "#calling the function    \n",
    "change_string(string1)    \n",
    "    \n",
    "print(\"printing the string outside function :\",string1)    "
   ]
  },
  {
   "cell_type": "markdown",
   "metadata": {},
   "source": [
    "### Types of arguments"
   ]
  },
  {
   "cell_type": "markdown",
   "metadata": {},
   "source": [
    "* Required arguments\n",
    "* Keyword arguments\n",
    "* Default arguments\n",
    "* Variable-length arguments"
   ]
  },
  {
   "cell_type": "markdown",
   "metadata": {},
   "source": [
    "* 1.Required Arguments"
   ]
  },
  {
   "cell_type": "code",
   "execution_count": 23,
   "metadata": {},
   "outputs": [
    {
     "name": "stdout",
     "output_type": "stream",
     "text": [
      "Enter the name:simbu\n"
     ]
    },
    {
     "data": {
      "text/plain": [
       "'Hi simbu'"
      ]
     },
     "execution_count": 23,
     "metadata": {},
     "output_type": "execute_result"
    }
   ],
   "source": [
    "def func(name):    \n",
    "    message = \"Hi \"+name  \n",
    "    return message  \n",
    "\n",
    "name = input(\"Enter the name:\")   \n",
    "\n",
    "func(name) \n"
   ]
  },
  {
   "cell_type": "code",
   "execution_count": 24,
   "metadata": {},
   "outputs": [
    {
     "name": "stdout",
     "output_type": "stream",
     "text": [
      "Enter the principle amount? 20\n",
      "Enter the rate of interest? 2\n",
      "Enter the time in years? 5\n",
      "Simple Interest:  2.0\n"
     ]
    }
   ],
   "source": [
    "#the function simple_interest accepts three arguments and returns the simple interest accordingly    \n",
    "def simple_interest(p,t,r):    \n",
    "    c=(p*t*r)/100    \n",
    "    return c\n",
    "p = float(input(\"Enter the principle amount? \"))    \n",
    "r = float(input(\"Enter the rate of interest? \"))    \n",
    "t = float(input(\"Enter the time in years? \"))    \n",
    "\n",
    "print(\"Simple Interest: \",simple_interest(p,r,t))  "
   ]
  },
  {
   "cell_type": "markdown",
   "metadata": {},
   "source": [
    "* 2.Default Arguments"
   ]
  },
  {
   "cell_type": "code",
   "execution_count": 25,
   "metadata": {},
   "outputs": [
    {
     "name": "stdout",
     "output_type": "stream",
     "text": [
      "My name is simbu and age is 22\n",
      "My name is Str and age is 22\n"
     ]
    }
   ],
   "source": [
    "def printme(name,age=22):    \n",
    "    print(\"My name is\",name,\"and age is\",age)    \n",
    "    \n",
    "    \n",
    "printme(name = \"simbu\")  \n",
    "printme(name=\"Str\")"
   ]
  },
  {
   "cell_type": "markdown",
   "metadata": {},
   "source": [
    "* Variable-length Arguments (*args)"
   ]
  },
  {
   "cell_type": "code",
   "execution_count": 28,
   "metadata": {},
   "outputs": [
    {
     "name": "stdout",
     "output_type": "stream",
     "text": [
      "type of passed argument is  <class 'tuple'>\n",
      "printing the passed arguments...\n",
      "ramya\n",
      "mahathi\n",
      "smith\n",
      "nick\n"
     ]
    }
   ],
   "source": [
    "def printme(*names):    \n",
    "    print(\"type of passed argument is \",type(names))    \n",
    "    print(\"printing the passed arguments...\")    \n",
    "    \n",
    "    for name in names:    \n",
    "        print(name)    \n",
    "        \n",
    "printme(\"ramya\",\"mahathi\",\"smith\",\"nick\")    "
   ]
  },
  {
   "cell_type": "markdown",
   "metadata": {},
   "source": [
    "* 3.Keyword arguments(**kwargs)"
   ]
  },
  {
   "cell_type": "code",
   "execution_count": 30,
   "metadata": {},
   "outputs": [],
   "source": [
    "def func(name,message):    \n",
    "    print(\"printing the message with\",name,\"and \",message)    \n",
    "      \n",
    "    #name and message is copied with the values John and hello respectively    \n",
    "    func(name = \"John\",message=\"hello\")   "
   ]
  },
  {
   "cell_type": "code",
   "execution_count": 32,
   "metadata": {},
   "outputs": [
    {
     "name": "stdout",
     "output_type": "stream",
     "text": [
      "Simple Interest:  1900.0\n"
     ]
    }
   ],
   "source": [
    "#The function simple_interest(p, t, r) is called with the keyword arguments the order of arguments doesn't matter in this case    \n",
    "def simple_interest(p,t,r):    \n",
    "    return (p*t*r)/100    \n",
    "\n",
    "\n",
    "\n",
    "print(\"Simple Interest: \",simple_interest(t=10,r=10,p=1900))  "
   ]
  },
  {
   "cell_type": "markdown",
   "metadata": {},
   "source": [
    "#### Scope of variables"
   ]
  },
  {
   "cell_type": "markdown",
   "metadata": {},
   "source": [
    "* The scopes of the variables depend upon the location where the variable is being declared. The variable declared in one part of the program may not be accessible to the other parts."
   ]
  },
  {
   "cell_type": "markdown",
   "metadata": {},
   "source": [
    "* 1.Global variables\n",
    "* 2.Local variables"
   ]
  },
  {
   "cell_type": "markdown",
   "metadata": {},
   "source": [
    "* Example 1 Local Variable"
   ]
  },
  {
   "cell_type": "code",
   "execution_count": 33,
   "metadata": {},
   "outputs": [
    {
     "name": "stdout",
     "output_type": "stream",
     "text": [
      "hello !! I am going to print a message.\n"
     ]
    },
    {
     "ename": "NameError",
     "evalue": "name 'message' is not defined",
     "output_type": "error",
     "traceback": [
      "\u001b[1;31m---------------------------------------------------------------------------\u001b[0m",
      "\u001b[1;31mNameError\u001b[0m                                 Traceback (most recent call last)",
      "\u001b[1;32m<ipython-input-33-e3eeb14c2e8d>\u001b[0m in \u001b[0;36m<module>\u001b[1;34m\u001b[0m\n\u001b[0;32m      4\u001b[0m \u001b[0mprint_message\u001b[0m\u001b[1;33m(\u001b[0m\u001b[1;33m)\u001b[0m\u001b[1;33m\u001b[0m\u001b[1;33m\u001b[0m\u001b[0m\n\u001b[0;32m      5\u001b[0m \u001b[1;33m\u001b[0m\u001b[0m\n\u001b[1;32m----> 6\u001b[1;33m \u001b[0mprint\u001b[0m\u001b[1;33m(\u001b[0m\u001b[0mmessage\u001b[0m\u001b[1;33m)\u001b[0m \u001b[1;31m# this will cause an error since a local variable cannot be accessible here.\u001b[0m\u001b[1;33m\u001b[0m\u001b[1;33m\u001b[0m\u001b[0m\n\u001b[0m",
      "\u001b[1;31mNameError\u001b[0m: name 'message' is not defined"
     ]
    }
   ],
   "source": [
    "def print_message():    \n",
    "    message = \"hello !! I am going to print a message.\" # the variable message is local to the function itself    \n",
    "    print(message)    \n",
    "print_message() \n",
    "\n",
    "print(message) # this will cause an error since a local variable cannot be accessible here.    "
   ]
  },
  {
   "cell_type": "markdown",
   "metadata": {},
   "source": [
    "* Example 2 Global Variable"
   ]
  },
  {
   "cell_type": "code",
   "execution_count": 35,
   "metadata": {},
   "outputs": [
    {
     "name": "stdout",
     "output_type": "stream",
     "text": [
      "The sum is 60\n",
      "Value of sum outside the function: 0\n"
     ]
    }
   ],
   "source": [
    "def calculate(*args):    \n",
    "    sum=0    \n",
    "    for arg in args:    \n",
    "        sum = sum +arg    \n",
    "    print(\"The sum is\",sum)    \n",
    "    \n",
    "    \n",
    "sum=0    \n",
    "\n",
    "calculate(10,20,30) #60 will be printed as the sum   \n",
    "\n",
    "print(\"Value of sum outside the function:\",sum) # 0 will be printed  Output:  \n"
   ]
  },
  {
   "cell_type": "code",
   "execution_count": null,
   "metadata": {},
   "outputs": [],
   "source": []
  }
 ],
 "metadata": {
  "kernelspec": {
   "display_name": "Python 3",
   "language": "python",
   "name": "python3"
  },
  "language_info": {
   "codemirror_mode": {
    "name": "ipython",
    "version": 3
   },
   "file_extension": ".py",
   "mimetype": "text/x-python",
   "name": "python",
   "nbconvert_exporter": "python",
   "pygments_lexer": "ipython3",
   "version": "3.7.6"
  }
 },
 "nbformat": 4,
 "nbformat_minor": 4
}
