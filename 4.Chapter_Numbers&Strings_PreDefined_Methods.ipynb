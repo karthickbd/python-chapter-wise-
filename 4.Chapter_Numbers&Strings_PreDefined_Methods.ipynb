{
 "cells": [
  {
   "cell_type": "markdown",
   "metadata": {},
   "source": [
    "# 4. Numbers and Strings Methods"
   ]
  },
  {
   "cell_type": "markdown",
   "metadata": {},
   "source": [
    "### Numbers"
   ]
  },
  {
   "cell_type": "markdown",
   "metadata": {},
   "source": [
    "* 1.abs()     the absolute value"
   ]
  },
  {
   "cell_type": "code",
   "execution_count": 3,
   "metadata": {},
   "outputs": [
    {
     "name": "stdout",
     "output_type": "stream",
     "text": [
      "abs(-45):  45\n",
      "abs(100.12):  100.12\n"
     ]
    }
   ],
   "source": [
    "print(\"abs(-45): \",abs(-45))\n",
    "\n",
    "print(\"abs(100.12): \",abs(100.12))"
   ]
  },
  {
   "cell_type": "code",
   "execution_count": 6,
   "metadata": {},
   "outputs": [
    {
     "name": "stdout",
     "output_type": "stream",
     "text": [
      "69.23\n"
     ]
    }
   ],
   "source": [
    "a=-69.23\n",
    "\n",
    "print(abs(a))"
   ]
  },
  {
   "cell_type": "markdown",
   "metadata": {},
   "source": [
    "* 2.ceil()  and Floor()"
   ]
  },
  {
   "cell_type": "code",
   "execution_count": 21,
   "metadata": {},
   "outputs": [
    {
     "name": "stdout",
     "output_type": "stream",
     "text": [
      "ceil(-45): -45\n",
      "floor(-45): -46\n",
      "ceil(45): 46\n",
      "floor(45): 45\n"
     ]
    }
   ],
   "source": [
    "import math\n",
    "\n",
    "print(\"ceil(-45):\",math.ceil(-45.62))\n",
    "print(\"floor(-45):\",math.floor(-45.62))\n",
    "\n",
    "\n",
    "\n",
    "print(\"ceil(45):\",math.ceil(45.62))\n",
    "print(\"floor(45):\",math.floor(45.62))\n",
    "\n"
   ]
  },
  {
   "cell_type": "markdown",
   "metadata": {},
   "source": [
    "* 3.exp()  "
   ]
  },
  {
   "cell_type": "code",
   "execution_count": 25,
   "metadata": {},
   "outputs": [
    {
     "name": "stdout",
     "output_type": "stream",
     "text": [
      "exp(-45.17):  2.4150062132629406e-20\n",
      "exp(45.17):  4.140776096177779e+19\n"
     ]
    }
   ],
   "source": [
    "#exponential\n",
    "print(\"exp(-45.17): \",math.exp(-45.17))\n",
    "print(\"exp(45.17): \",math.exp(45.17))\n"
   ]
  },
  {
   "cell_type": "markdown",
   "metadata": {},
   "source": [
    "* 4.fabs() "
   ]
  },
  {
   "cell_type": "code",
   "execution_count": 27,
   "metadata": {},
   "outputs": [
    {
     "name": "stdout",
     "output_type": "stream",
     "text": [
      "fabs(-45.17):  45.17\n"
     ]
    }
   ],
   "source": [
    "print(\"fabs(-45.17): \",math.fabs(-45.17))"
   ]
  },
  {
   "cell_type": "markdown",
   "metadata": {},
   "source": [
    "* 5.log()"
   ]
  },
  {
   "cell_type": "code",
   "execution_count": 31,
   "metadata": {},
   "outputs": [
    {
     "name": "stdout",
     "output_type": "stream",
     "text": [
      "log(45.17): 3.8104331496665127\n"
     ]
    }
   ],
   "source": [
    "print(\"log(45.17):\",math.log(45.17))"
   ]
  },
  {
   "cell_type": "markdown",
   "metadata": {},
   "source": [
    "* 6.log10()"
   ]
  },
  {
   "cell_type": "code",
   "execution_count": 33,
   "metadata": {},
   "outputs": [
    {
     "name": "stdout",
     "output_type": "stream",
     "text": [
      "log10(45.17):  1.6548500905613943\n"
     ]
    }
   ],
   "source": [
    "print(\"log10(45.17): \",math.log10(45.17))"
   ]
  },
  {
   "cell_type": "markdown",
   "metadata": {},
   "source": [
    "* 7.max() and min()"
   ]
  },
  {
   "cell_type": "code",
   "execution_count": 38,
   "metadata": {},
   "outputs": [
    {
     "name": "stdout",
     "output_type": "stream",
     "text": [
      "max(10,89,56,20):  89\n",
      "min(10,89,56,20):  10\n"
     ]
    }
   ],
   "source": [
    "print(\"max(10,89,56,20): \",max(10,89,56,20))\n",
    "\n",
    "print(\"min(10,89,56,20): \",min(10,89,56,20))"
   ]
  },
  {
   "cell_type": "markdown",
   "metadata": {},
   "source": [
    "* 8.modf()"
   ]
  },
  {
   "cell_type": "code",
   "execution_count": 42,
   "metadata": {},
   "outputs": [
    {
     "name": "stdout",
     "output_type": "stream",
     "text": [
      "modf(45.17):  (0.1700000000000017, 45.0)\n",
      "modf(100):  (0.0, 100.0)\n"
     ]
    }
   ],
   "source": [
    "print(\"modf(45.17): \",math.modf(45.17))\n",
    "\n",
    "print(\"modf(100): \",math.modf(100))"
   ]
  },
  {
   "cell_type": "markdown",
   "metadata": {},
   "source": [
    "* 9.pow()"
   ]
  },
  {
   "cell_type": "code",
   "execution_count": 45,
   "metadata": {},
   "outputs": [
    {
     "name": "stdout",
     "output_type": "stream",
     "text": [
      "math.pow(5,3):  125.0\n"
     ]
    }
   ],
   "source": [
    "print(\"math.pow(5,3): \",math.pow(5,3))"
   ]
  },
  {
   "cell_type": "code",
   "execution_count": 47,
   "metadata": {},
   "outputs": [
    {
     "data": {
      "text/plain": [
       "125"
      ]
     },
     "execution_count": 47,
     "metadata": {},
     "output_type": "execute_result"
    }
   ],
   "source": [
    "5**3"
   ]
  },
  {
   "cell_type": "markdown",
   "metadata": {},
   "source": [
    "* 10.round()"
   ]
  },
  {
   "cell_type": "code",
   "execution_count": 52,
   "metadata": {},
   "outputs": [
    {
     "name": "stdout",
     "output_type": "stream",
     "text": [
      "round(45.17):  45\n",
      "round(45.60):  46\n"
     ]
    }
   ],
   "source": [
    "print(\"round(45.17): \",round(45.17))\n",
    "print(\"round(45.60): \",round(45.60))"
   ]
  },
  {
   "cell_type": "markdown",
   "metadata": {},
   "source": [
    "* 11.sqrt()"
   ]
  },
  {
   "cell_type": "code",
   "execution_count": 54,
   "metadata": {},
   "outputs": [
    {
     "name": "stdout",
     "output_type": "stream",
     "text": [
      "sqrt(25):  5.0\n",
      "sqrt(625):  25.0\n"
     ]
    }
   ],
   "source": [
    "print(\"sqrt(25): \",math.sqrt(25))\n",
    "\n",
    "print(\"sqrt(625): \",math.sqrt(625))\n"
   ]
  },
  {
   "cell_type": "markdown",
   "metadata": {},
   "source": [
    "* Random number function"
   ]
  },
  {
   "cell_type": "markdown",
   "metadata": {},
   "source": [
    "* 12.choice()"
   ]
  },
  {
   "cell_type": "code",
   "execution_count": 67,
   "metadata": {},
   "outputs": [
    {
     "name": "stdout",
     "output_type": "stream",
     "text": [
      "random number from range(100): 74\n",
      "random number from list: 7\n",
      "random string from karthi : h\n"
     ]
    }
   ],
   "source": [
    "import random\n",
    "\n",
    "print(\"random number from range(100):\",random.choice(range(100)))\n",
    "\n",
    "list=[1,2,3,4,5,6,7,8]\n",
    "print(\"random number from list:\",random.choice(list))\n",
    "\n",
    "a=\"karthi\"\n",
    "\n",
    "print(\"random string from karthi :\",random.choice(a))\n"
   ]
  },
  {
   "cell_type": "markdown",
   "metadata": {},
   "source": [
    "* 13.randrange()"
   ]
  },
  {
   "cell_type": "code",
   "execution_count": 79,
   "metadata": {},
   "outputs": [
    {
     "name": "stdout",
     "output_type": "stream",
     "text": [
      "randrange(1,100,2):  57\n"
     ]
    }
   ],
   "source": [
    "print(\"randrange(1,100,2): \",random.randrange(1,100,2))"
   ]
  },
  {
   "cell_type": "markdown",
   "metadata": {},
   "source": [
    "* 14.random()"
   ]
  },
  {
   "cell_type": "code",
   "execution_count": 81,
   "metadata": {},
   "outputs": [
    {
     "name": "stdout",
     "output_type": "stream",
     "text": [
      "random():  0.16344924635384495\n"
     ]
    }
   ],
   "source": [
    "print(\"random(): \",random.random())"
   ]
  },
  {
   "cell_type": "markdown",
   "metadata": {},
   "source": [
    "* 15.seed()"
   ]
  },
  {
   "cell_type": "code",
   "execution_count": 87,
   "metadata": {},
   "outputs": [
    {
     "name": "stdout",
     "output_type": "stream",
     "text": [
      "random number with default seed :  0.18362368252389605\n",
      "random number with default seed :  0.1456692551041303\n",
      "random number with default seed :  0.2809492246318187\n"
     ]
    }
   ],
   "source": [
    "print(\"random number with default seed : \",random.random())\n",
    "random.seed(100)\n",
    "print(\"random number with default seed : \",random.random())\n",
    "\n",
    "random.seed(\"karthi\",2)\n",
    "print(\"random number with default seed : \",random.random())"
   ]
  },
  {
   "cell_type": "markdown",
   "metadata": {},
   "source": [
    "* 16.shuffle()"
   ]
  },
  {
   "cell_type": "code",
   "execution_count": 89,
   "metadata": {},
   "outputs": [
    {
     "name": "stdout",
     "output_type": "stream",
     "text": [
      "shuffle(list):  [5, 3, 1, 8, 4, 6, 9, 7, 2]\n"
     ]
    }
   ],
   "source": [
    "list=[1,2,3,4,5,6,7,8,9]\n",
    "random.shuffle(list)\n",
    "print(\"shuffle(list): \",list)"
   ]
  },
  {
   "cell_type": "markdown",
   "metadata": {},
   "source": [
    "* 17.uniform()"
   ]
  },
  {
   "cell_type": "code",
   "execution_count": 98,
   "metadata": {},
   "outputs": [
    {
     "name": "stdout",
     "output_type": "stream",
     "text": [
      "random float uniform(5,10):  7.294916306256533\n"
     ]
    }
   ],
   "source": [
    "print('random float uniform(5,10): ',random.uniform(5,10))"
   ]
  },
  {
   "cell_type": "markdown",
   "metadata": {},
   "source": [
    "* Trigometric Function"
   ]
  },
  {
   "cell_type": "markdown",
   "metadata": {},
   "source": [
    "* 18.acos()"
   ]
  },
  {
   "cell_type": "code",
   "execution_count": 108,
   "metadata": {},
   "outputs": [
    {
     "name": "stdout",
     "output_type": "stream",
     "text": [
      "acos(0.64):  0.8762980611683406\n"
     ]
    }
   ],
   "source": [
    "print(\"acos(0.64): \",math.acos(0.64))"
   ]
  },
  {
   "cell_type": "markdown",
   "metadata": {},
   "source": [
    "* 19.cos()"
   ]
  },
  {
   "cell_type": "code",
   "execution_count": 110,
   "metadata": {},
   "outputs": [
    {
     "name": "stdout",
     "output_type": "stream",
     "text": [
      "cos(90):  -0.4480736161291701\n"
     ]
    }
   ],
   "source": [
    "print(\"cos(90): \",math.cos(90))"
   ]
  },
  {
   "cell_type": "markdown",
   "metadata": {},
   "source": [
    "* 20.asin() and sin()"
   ]
  },
  {
   "cell_type": "code",
   "execution_count": 111,
   "metadata": {},
   "outputs": [
    {
     "name": "stdout",
     "output_type": "stream",
     "text": [
      "asin(0.64):  0.694498265626556\n",
      "sin(90):  0.8939966636005579\n"
     ]
    }
   ],
   "source": [
    "print(\"asin(0.64): \",math.asin(0.64))\n",
    "print(\"sin(90): \",math.sin(90))"
   ]
  },
  {
   "cell_type": "markdown",
   "metadata": {},
   "source": [
    "* 21.atan() and tan()"
   ]
  },
  {
   "cell_type": "code",
   "execution_count": 113,
   "metadata": {},
   "outputs": [
    {
     "name": "stdout",
     "output_type": "stream",
     "text": [
      "atan(0.64):  0.5693131911006619\n",
      "tan(0.64):  0.7445438222209639\n"
     ]
    }
   ],
   "source": [
    "print(\"atan(0.64): \",math.atan(0.64))\n",
    "print(\"tan(0.64): \",math.tan(0.64))"
   ]
  },
  {
   "cell_type": "markdown",
   "metadata": {},
   "source": [
    "* 22.sec(),cosec(),cot()"
   ]
  },
  {
   "cell_type": "markdown",
   "metadata": {},
   "source": [
    "1/tan=cot\n",
    "1/sin=cosec\n",
    "1/cos=sec\n",
    "\n"
   ]
  },
  {
   "cell_type": "markdown",
   "metadata": {},
   "source": [
    "* 23.atan2()"
   ]
  },
  {
   "cell_type": "code",
   "execution_count": 118,
   "metadata": {},
   "outputs": [
    {
     "name": "stdout",
     "output_type": "stream",
     "text": [
      "atan2(5,5):  0.7853981633974483\n"
     ]
    }
   ],
   "source": [
    "print(\"atan2(5,5): \",math.atan2(5,5))"
   ]
  },
  {
   "cell_type": "markdown",
   "metadata": {},
   "source": [
    "* 24.hypot()"
   ]
  },
  {
   "cell_type": "code",
   "execution_count": 121,
   "metadata": {},
   "outputs": [
    {
     "name": "stdout",
     "output_type": "stream",
     "text": [
      "hypot(3,2):  3.605551275463989\n"
     ]
    }
   ],
   "source": [
    "print(\"hypot(3,2): \",math.hypot(3,2))"
   ]
  },
  {
   "cell_type": "markdown",
   "metadata": {},
   "source": [
    "* 25.degrees()"
   ]
  },
  {
   "cell_type": "code",
   "execution_count": 124,
   "metadata": {},
   "outputs": [
    {
     "name": "stdout",
     "output_type": "stream",
     "text": [
      "degrees(3):  5156.620156177409\n"
     ]
    }
   ],
   "source": [
    "print(\"degrees(3): \",math.degrees(90))"
   ]
  },
  {
   "cell_type": "markdown",
   "metadata": {},
   "source": [
    "* 26.radians()"
   ]
  },
  {
   "cell_type": "code",
   "execution_count": 125,
   "metadata": {},
   "outputs": [
    {
     "name": "stdout",
     "output_type": "stream",
     "text": [
      "radians():  0.05235987755982989\n"
     ]
    }
   ],
   "source": [
    "print(\"radians(): \",math.radians(3))"
   ]
  },
  {
   "cell_type": "markdown",
   "metadata": {},
   "source": [
    "* mathematical constant"
   ]
  },
  {
   "cell_type": "markdown",
   "metadata": {},
   "source": [
    "* 27.pi"
   ]
  },
  {
   "cell_type": "code",
   "execution_count": 138,
   "metadata": {},
   "outputs": [
    {
     "name": "stdout",
     "output_type": "stream",
     "text": [
      "radians():  0.05483113556160755\n"
     ]
    }
   ],
   "source": [
    "print(\"radians(): \",math.radians(math.pi))"
   ]
  },
  {
   "cell_type": "markdown",
   "metadata": {},
   "source": [
    "* 28.e"
   ]
  },
  {
   "cell_type": "code",
   "execution_count": null,
   "metadata": {},
   "outputs": [],
   "source": []
  },
  {
   "cell_type": "markdown",
   "metadata": {},
   "source": [
    "### String Method "
   ]
  },
  {
   "cell_type": "code",
   "execution_count": 1,
   "metadata": {},
   "outputs": [],
   "source": [
    "karthi = \"Hi Python !\"    "
   ]
  },
  {
   "cell_type": "code",
   "execution_count": 2,
   "metadata": {},
   "outputs": [
    {
     "name": "stdout",
     "output_type": "stream",
     "text": [
      "<class 'str'>\n"
     ]
    }
   ],
   "source": [
    "print(type(karthi))"
   ]
  },
  {
   "cell_type": "code",
   "execution_count": 3,
   "metadata": {},
   "outputs": [
    {
     "name": "stdout",
     "output_type": "stream",
     "text": [
      "Hi Python !\n"
     ]
    }
   ],
   "source": [
    "print(karthi)"
   ]
  },
  {
   "cell_type": "code",
   "execution_count": 4,
   "metadata": {},
   "outputs": [
    {
     "name": "stdout",
     "output_type": "stream",
     "text": [
      "H\n",
      "E\n",
      "L\n",
      "L\n",
      "O\n"
     ]
    },
    {
     "ename": "IndexError",
     "evalue": "string index out of range",
     "output_type": "error",
     "traceback": [
      "\u001b[1;31m---------------------------------------------------------------------------\u001b[0m",
      "\u001b[1;31mIndexError\u001b[0m                                Traceback (most recent call last)",
      "\u001b[1;32m<ipython-input-4-72aac026d8d5>\u001b[0m in \u001b[0;36m<module>\u001b[1;34m\u001b[0m\n\u001b[0;32m      6\u001b[0m \u001b[0mprint\u001b[0m\u001b[1;33m(\u001b[0m\u001b[0mstr\u001b[0m\u001b[1;33m[\u001b[0m\u001b[1;36m4\u001b[0m\u001b[1;33m]\u001b[0m\u001b[1;33m)\u001b[0m\u001b[1;33m\u001b[0m\u001b[1;33m\u001b[0m\u001b[0m\n\u001b[0;32m      7\u001b[0m \u001b[1;31m# It returns the IndexError because 6th index doesn't exist\u001b[0m\u001b[1;33m\u001b[0m\u001b[1;33m\u001b[0m\u001b[1;33m\u001b[0m\u001b[0m\n\u001b[1;32m----> 8\u001b[1;33m \u001b[0mprint\u001b[0m\u001b[1;33m(\u001b[0m\u001b[0mstr\u001b[0m\u001b[1;33m[\u001b[0m\u001b[1;36m6\u001b[0m\u001b[1;33m]\u001b[0m\u001b[1;33m)\u001b[0m\u001b[1;33m\u001b[0m\u001b[1;33m\u001b[0m\u001b[0m\n\u001b[0m",
      "\u001b[1;31mIndexError\u001b[0m: string index out of range"
     ]
    }
   ],
   "source": [
    "str = \"HELLO\"  \n",
    "print(str[0])  \n",
    "print(str[1])  \n",
    "print(str[2])  \n",
    "print(str[3])  \n",
    "print(str[4])  \n",
    "# It returns the IndexError because 6th index doesn't exist  \n",
    "print(str[6])  "
   ]
  },
  {
   "cell_type": "code",
   "execution_count": 5,
   "metadata": {},
   "outputs": [
    {
     "name": "stdout",
     "output_type": "stream",
     "text": [
      "JAVATPOINT\n",
      "AVAT\n",
      "VA\n",
      "JAV\n",
      "TPO\n"
     ]
    }
   ],
   "source": [
    "str = \"JAVATPOINT\"  \n",
    "\n",
    "# Start Oth index to end  \n",
    "print(str[0:])  \n",
    "\n",
    "# Starts 1th index to 4th index  \n",
    "print(str[1:5])  \n",
    "\n",
    "# Starts 2nd index to 3rd index  \n",
    "print(str[2:4])  \n",
    "\n",
    "# Starts 0th to 2nd index  \n",
    "print(str[:3])  \n",
    "\n",
    "#Starts 4th to 6th index  \n",
    "print(str[4:7])  "
   ]
  },
  {
   "cell_type": "code",
   "execution_count": 7,
   "metadata": {},
   "outputs": [
    {
     "name": "stdout",
     "output_type": "stream",
     "text": [
      "T\n",
      "I\n",
      "NT\n",
      "OIN\n",
      "ATPOI\n",
      "TNIOPTAVAJ\n"
     ]
    },
    {
     "ename": "IndexError",
     "evalue": "string index out of range",
     "output_type": "error",
     "traceback": [
      "\u001b[1;31m---------------------------------------------------------------------------\u001b[0m",
      "\u001b[1;31mIndexError\u001b[0m                                Traceback (most recent call last)",
      "\u001b[1;32m<ipython-input-7-6d6a78cfe7d6>\u001b[0m in \u001b[0;36m<module>\u001b[1;34m\u001b[0m\n\u001b[0;32m     13\u001b[0m \u001b[1;31m# Reversing the given string\u001b[0m\u001b[1;33m\u001b[0m\u001b[1;33m\u001b[0m\u001b[1;33m\u001b[0m\u001b[0m\n\u001b[0;32m     14\u001b[0m \u001b[0mprint\u001b[0m\u001b[1;33m(\u001b[0m\u001b[0mstr\u001b[0m\u001b[1;33m[\u001b[0m\u001b[1;33m:\u001b[0m\u001b[1;33m:\u001b[0m\u001b[1;33m-\u001b[0m\u001b[1;36m1\u001b[0m\u001b[1;33m]\u001b[0m\u001b[1;33m)\u001b[0m\u001b[1;33m\u001b[0m\u001b[1;33m\u001b[0m\u001b[0m\n\u001b[1;32m---> 15\u001b[1;33m \u001b[0mprint\u001b[0m\u001b[1;33m(\u001b[0m\u001b[0mstr\u001b[0m\u001b[1;33m[\u001b[0m\u001b[1;33m-\u001b[0m\u001b[1;36m12\u001b[0m\u001b[1;33m]\u001b[0m\u001b[1;33m)\u001b[0m\u001b[1;33m\u001b[0m\u001b[1;33m\u001b[0m\u001b[0m\n\u001b[0m",
      "\u001b[1;31mIndexError\u001b[0m: string index out of range"
     ]
    }
   ],
   "source": [
    "str = 'JAVATPOINT'  \n",
    "\n",
    "print(str[-1])  \n",
    "\n",
    "print(str[-3])  \n",
    "\n",
    "print(str[-2:])  \n",
    "\n",
    "print(str[-4:-1])  \n",
    "\n",
    "print(str[-7:-2])  \n",
    "\n",
    "# Reversing the given string  \n",
    "print(str[::-1])  \n",
    "print(str[-12])  "
   ]
  },
  {
   "cell_type": "code",
   "execution_count": 9,
   "metadata": {},
   "outputs": [
    {
     "ename": "TypeError",
     "evalue": "'str' object does not support item assignment",
     "output_type": "error",
     "traceback": [
      "\u001b[1;31m---------------------------------------------------------------------------\u001b[0m",
      "\u001b[1;31mTypeError\u001b[0m                                 Traceback (most recent call last)",
      "\u001b[1;32m<ipython-input-9-64870c3c033c>\u001b[0m in \u001b[0;36m<module>\u001b[1;34m\u001b[0m\n\u001b[0;32m      1\u001b[0m \u001b[0mstr\u001b[0m \u001b[1;33m=\u001b[0m \u001b[1;34m\"HELLO\"\u001b[0m\u001b[1;33m\u001b[0m\u001b[1;33m\u001b[0m\u001b[0m\n\u001b[1;32m----> 2\u001b[1;33m \u001b[0mstr\u001b[0m\u001b[1;33m[\u001b[0m\u001b[1;36m0\u001b[0m\u001b[1;33m]\u001b[0m \u001b[1;33m=\u001b[0m \u001b[1;34m\"h\"\u001b[0m\u001b[1;33m\u001b[0m\u001b[1;33m\u001b[0m\u001b[0m\n\u001b[0m\u001b[0;32m      3\u001b[0m \u001b[0mprint\u001b[0m\u001b[1;33m(\u001b[0m\u001b[0mstr\u001b[0m\u001b[1;33m)\u001b[0m\u001b[1;33m\u001b[0m\u001b[1;33m\u001b[0m\u001b[0m\n",
      "\u001b[1;31mTypeError\u001b[0m: 'str' object does not support item assignment"
     ]
    }
   ],
   "source": [
    "str = \"HELLO\"    \n",
    "str[0] = \"h\"    \n",
    "print(str)   "
   ]
  },
  {
   "cell_type": "code",
   "execution_count": 10,
   "metadata": {},
   "outputs": [
    {
     "name": "stdout",
     "output_type": "stream",
     "text": [
      "HELLO\n",
      "hello\n"
     ]
    }
   ],
   "source": [
    "str = \"HELLO\"    \n",
    "print(str)    \n",
    "str = \"hello\"    \n",
    "print(str)    "
   ]
  },
  {
   "cell_type": "code",
   "execution_count": 14,
   "metadata": {},
   "outputs": [
    {
     "ename": "NameError",
     "evalue": "name 'str1' is not defined",
     "output_type": "error",
     "traceback": [
      "\u001b[1;31m---------------------------------------------------------------------------\u001b[0m",
      "\u001b[1;31mNameError\u001b[0m                                 Traceback (most recent call last)",
      "\u001b[1;32m<ipython-input-14-4f252feabb5f>\u001b[0m in \u001b[0;36m<module>\u001b[1;34m\u001b[0m\n\u001b[0;32m      2\u001b[0m \u001b[1;32mdel\u001b[0m \u001b[0mstr1\u001b[0m\u001b[1;33m\u001b[0m\u001b[1;33m\u001b[0m\u001b[0m\n\u001b[0;32m      3\u001b[0m \u001b[1;33m\u001b[0m\u001b[0m\n\u001b[1;32m----> 4\u001b[1;33m \u001b[0mprint\u001b[0m\u001b[1;33m(\u001b[0m\u001b[0mstr1\u001b[0m\u001b[1;33m)\u001b[0m\u001b[1;33m\u001b[0m\u001b[1;33m\u001b[0m\u001b[0m\n\u001b[0m",
      "\u001b[1;31mNameError\u001b[0m: name 'str1' is not defined"
     ]
    }
   ],
   "source": [
    "str1 = \"JAVATPOINT\"  \n",
    "del str1\n",
    "\n",
    "print(str1)"
   ]
  },
  {
   "cell_type": "code",
   "execution_count": 19,
   "metadata": {},
   "outputs": [
    {
     "name": "stdout",
     "output_type": "stream",
     "text": [
      "karthikarthikarthi\n",
      "karthi simbu\n",
      "h\n",
      "rt\n",
      "False\n",
      "True\n",
      "C://python37\n",
      "The string str : karthi\n",
      "The stringstr :  karthi\n"
     ]
    }
   ],
   "source": [
    "str1 = \"karthi\"     \n",
    "str2 = \" simbu\"    \n",
    "\n",
    "print(str1*3)   \n",
    "\n",
    "print(str1+str2)     \n",
    "\n",
    "print(str1[4])                 \n",
    "\n",
    "print(str1[2:4])                   \n",
    "\n",
    "print('w' in str1)   \n",
    "\n",
    "print('wo' not in str1)    \n",
    "\n",
    "print(r'C://python37')     \n",
    "\n",
    "print(\"The string str : %s\"%(str1))      \n",
    "\n",
    "print(\"The stringstr : \",str1)"
   ]
  },
  {
   "cell_type": "code",
   "execution_count": 22,
   "metadata": {},
   "outputs": [
    {
     "ename": "SyntaxError",
     "evalue": "invalid syntax (<ipython-input-22-7c29bcb325cd>, line 1)",
     "output_type": "error",
     "traceback": [
      "\u001b[1;36m  File \u001b[1;32m\"<ipython-input-22-7c29bcb325cd>\"\u001b[1;36m, line \u001b[1;32m1\u001b[0m\n\u001b[1;33m    str = \"They said, \"Hello what's going on?\"\"\u001b[0m\n\u001b[1;37m                           ^\u001b[0m\n\u001b[1;31mSyntaxError\u001b[0m\u001b[1;31m:\u001b[0m invalid syntax\n"
     ]
    }
   ],
   "source": [
    "str = \"They said, \"Hello what's going on?\"\"  \n",
    "print(str)  "
   ]
  },
  {
   "cell_type": "code",
   "execution_count": 25,
   "metadata": {},
   "outputs": [
    {
     "name": "stdout",
     "output_type": "stream",
     "text": [
      "They said, \"What\n",
      "karthi\n",
      "They said, \"What's going on?\"\n",
      "They said, \"What's going on?\"\n"
     ]
    }
   ],
   "source": [
    "# using triple quotes  \n",
    "print('They said, \"What')  \n",
    "  \n",
    "print(\"karthi\")\n",
    "\n",
    "# escaping single quotes  \n",
    "print('They said, \"What\\'s going on?\"')  \n",
    "  \n",
    "# escaping double quotes  \n",
    "print(\"They said, \\\"What's going on?\\\"\")  "
   ]
  },
  {
   "cell_type": "markdown",
   "metadata": {},
   "source": [
    "* The format() method"
   ]
  },
  {
   "cell_type": "code",
   "execution_count": 27,
   "metadata": {},
   "outputs": [
    {
     "name": "stdout",
     "output_type": "stream",
     "text": [
      "Devansh and Abhishek both are the best friend\n",
      "Rohit and Virat best players \n",
      "James,Peter,Ricky\n"
     ]
    }
   ],
   "source": [
    "# Using Curly braces  \n",
    "print(\"{} and {} both are the best friend\".format(\"Devansh\",\"Abhishek\"))  \n",
    "  \n",
    "#Positional Argument  \n",
    "print(\"{1} and {0} best players \".format(\"Virat\",\"Rohit\"))  \n",
    "  \n",
    "#Keyword Argument  \n",
    "print(\"{a},{b},{c}\".format(a = \"James\", b = \"Peter\", c = \"Ricky\"))  "
   ]
  },
  {
   "cell_type": "markdown",
   "metadata": {},
   "source": [
    "* String functions"
   ]
  },
  {
   "cell_type": "markdown",
   "metadata": {},
   "source": [
    "<img src=\"1.png\">"
   ]
  },
  {
   "cell_type": "code",
   "execution_count": 2,
   "metadata": {},
   "outputs": [
    {
     "name": "stdout",
     "output_type": "stream",
     "text": [
      "This is string\n"
     ]
    }
   ],
   "source": [
    "#1. capitalize()\n",
    "karthi=\"this is string\"\n",
    "\n",
    "print(karthi.capitalize())"
   ]
  },
  {
   "cell_type": "code",
   "execution_count": 3,
   "metadata": {},
   "outputs": [
    {
     "name": "stdout",
     "output_type": "stream",
     "text": [
      "Old value: JAVATPOINT\n",
      "New value: javatpoint\n"
     ]
    }
   ],
   "source": [
    "#2.casefold()\n",
    "\n",
    "str1 = \"JAVATPOINT\"  \n",
    "# Calling function  \n",
    "str2 = str1.casefold()  \n",
    "# Displaying result  \n",
    "print(\"Old value:\", str1)  \n",
    "print(\"New value:\", str2) "
   ]
  },
  {
   "cell_type": "code",
   "execution_count": 7,
   "metadata": {},
   "outputs": [
    {
     "name": "stdout",
     "output_type": "stream",
     "text": [
      "        this is string        \n"
     ]
    }
   ],
   "source": [
    "#3.center()\n",
    "karthi=\"this is string\"\n",
    "print(karthi.center(30,' '))"
   ]
  },
  {
   "cell_type": "code",
   "execution_count": 11,
   "metadata": {},
   "outputs": [
    {
     "name": "stdout",
     "output_type": "stream",
     "text": [
      "1\n",
      "1\n"
     ]
    }
   ],
   "source": [
    "#4.count()\n",
    "\n",
    "karthi=\"this is string example....wow\"\n",
    "simbu='i'\n",
    "print(karthi.count(simbu))\n",
    "print(karthi.count(simbu,10,40))"
   ]
  },
  {
   "cell_type": "code",
   "execution_count": 12,
   "metadata": {},
   "outputs": [
    {
     "ename": "LookupError",
     "evalue": "'base64' is not a text encoding; use codecs.encode() to handle arbitrary codecs",
     "output_type": "error",
     "traceback": [
      "\u001b[1;31m---------------------------------------------------------------------------\u001b[0m",
      "\u001b[1;31mLookupError\u001b[0m                               Traceback (most recent call last)",
      "\u001b[1;32m<ipython-input-12-b16b894b1aa9>\u001b[0m in \u001b[0;36m<module>\u001b[1;34m\u001b[0m\n\u001b[0;32m      1\u001b[0m \u001b[1;31m#5.decode()\u001b[0m\u001b[1;33m\u001b[0m\u001b[1;33m\u001b[0m\u001b[1;33m\u001b[0m\u001b[0m\n\u001b[0;32m      2\u001b[0m \u001b[1;33m\u001b[0m\u001b[0m\n\u001b[1;32m----> 3\u001b[1;33m \u001b[0mkarthi\u001b[0m\u001b[1;33m=\u001b[0m\u001b[0mkarthi\u001b[0m\u001b[1;33m.\u001b[0m\u001b[0mencode\u001b[0m\u001b[1;33m(\u001b[0m\u001b[1;34m'base64'\u001b[0m\u001b[1;33m,\u001b[0m\u001b[1;34m'strict'\u001b[0m\u001b[1;33m)\u001b[0m\u001b[1;33m\u001b[0m\u001b[1;33m\u001b[0m\u001b[0m\n\u001b[0m\u001b[0;32m      4\u001b[0m \u001b[1;33m\u001b[0m\u001b[0m\n\u001b[0;32m      5\u001b[0m \u001b[0mprint\u001b[0m\u001b[1;33m(\u001b[0m\u001b[0mkarthi\u001b[0m\u001b[1;33m)\u001b[0m\u001b[1;33m\u001b[0m\u001b[1;33m\u001b[0m\u001b[0m\n",
      "\u001b[1;31mLookupError\u001b[0m: 'base64' is not a text encoding; use codecs.encode() to handle arbitrary codecs"
     ]
    }
   ],
   "source": [
    "#5.decode()\n",
    "\n",
    "karthi=karthi.encode('base64','strict')\n",
    "\n",
    "print(karthi)\n",
    "print(karthi.decode('base64','strict'))"
   ]
  },
  {
   "cell_type": "code",
   "execution_count": 13,
   "metadata": {},
   "outputs": [
    {
     "name": "stdout",
     "output_type": "stream",
     "text": [
      "b'dGhpcyBpcyBzdHJpbmcgZXhhbXBsZS4uLi53b3c='\n"
     ]
    }
   ],
   "source": [
    "#6. encode()\n",
    "\n",
    "import base64\n",
    "\n",
    "karthi=base64.b64encode(karthi.encode('utf-8',errors='strict'))\n",
    "\n",
    "print(karthi)"
   ]
  },
  {
   "cell_type": "code",
   "execution_count": 18,
   "metadata": {},
   "outputs": [
    {
     "name": "stdout",
     "output_type": "stream",
     "text": [
      "True\n",
      "False\n"
     ]
    }
   ],
   "source": [
    "# 7.endswith()\n",
    "str1 = \"Hello this is javatpoint.\"  \n",
    "isends = str1.endswith(\".\")  \n",
    "\n",
    "\n",
    "# Displaying result  \n",
    "print(isends)  \n",
    "isends1 = str1.endswith(\"k\")  \n",
    "print(isends1) "
   ]
  },
  {
   "cell_type": "code",
   "execution_count": 19,
   "metadata": {},
   "outputs": [
    {
     "name": "stdout",
     "output_type": "stream",
     "text": [
      "Welcome          to      the     Javatpoint.\n"
     ]
    }
   ],
   "source": [
    "#8.expandtabs()\n",
    "str = \"Welcome \\t to \\t the \\t Javatpoint.\"  \n",
    "# Calling function  \n",
    "str2 = str.expandtabs()  \n",
    "\n",
    "\n",
    "# Displaying result  \n",
    "print(str2)  "
   ]
  },
  {
   "cell_type": "code",
   "execution_count": 20,
   "metadata": {},
   "outputs": [
    {
     "name": "stdout",
     "output_type": "stream",
     "text": [
      "11\n"
     ]
    }
   ],
   "source": [
    "#9.find()\n",
    "str = \"Welcome to the Javatpoint.\"  \n",
    "# Calling function  \n",
    "str2 = str.find(\"the\")  \n",
    "# Displaying result  \n",
    "print(str2)  "
   ]
  },
  {
   "cell_type": "code",
   "execution_count": 22,
   "metadata": {},
   "outputs": [
    {
     "name": "stdout",
     "output_type": "stream",
     "text": [
      "-1\n"
     ]
    }
   ],
   "source": [
    "str = \"Welcome to the Javatpoint.\"  \n",
    "# Calling function  \n",
    "str2 = str.find(\"simbu\")  \n",
    "# Displaying result  \n",
    "print(str2)  "
   ]
  },
  {
   "cell_type": "code",
   "execution_count": 23,
   "metadata": {},
   "outputs": [
    {
     "name": "stdout",
     "output_type": "stream",
     "text": [
      "Java and C# both are programming languages\n"
     ]
    }
   ],
   "source": [
    "#10.format()\n",
    "\n",
    "str = \"Java\"  \n",
    "str2 = \"C#\"  \n",
    "# Calling function  \n",
    "str3 = \"{} and {} both are programming languages\".format(str,str2)  \n",
    "# Displaying result  \n",
    "print(str3)  "
   ]
  },
  {
   "cell_type": "code",
   "execution_count": 24,
   "metadata": {},
   "outputs": [
    {
     "name": "stdout",
     "output_type": "stream",
     "text": [
      "18\n"
     ]
    }
   ],
   "source": [
    "#11.index()\n",
    "\n",
    "str = \"Welcome to the Javatpoint.\"  \n",
    "# Calling function  \n",
    "str2 = str.index(\"at\")  \n",
    "# Displaying result  \n",
    "print(str2)  "
   ]
  },
  {
   "cell_type": "code",
   "execution_count": 31,
   "metadata": {},
   "outputs": [
    {
     "name": "stdout",
     "output_type": "stream",
     "text": [
      "True\n"
     ]
    }
   ],
   "source": [
    "#12.isalnum()\n",
    "\n",
    "str1 = \"Welcomec112\"  \n",
    "# Calling function  \n",
    "\n",
    "str2 = str1.isalnum()  \n",
    "# Displaying result  \n",
    "print(str2)  "
   ]
  },
  {
   "cell_type": "code",
   "execution_count": 30,
   "metadata": {},
   "outputs": [
    {
     "name": "stdout",
     "output_type": "stream",
     "text": [
      "False\n"
     ]
    }
   ],
   "source": [
    "str10 = \"Welcome 123\"  \n",
    "# Calling function  \n",
    "str2 = str10.isalnum()  \n",
    "# Displaying result  \n",
    "print(str2)  "
   ]
  },
  {
   "cell_type": "code",
   "execution_count": 32,
   "metadata": {},
   "outputs": [
    {
     "name": "stdout",
     "output_type": "stream",
     "text": [
      "True\n"
     ]
    }
   ],
   "source": [
    "# 13.isalpha()\n",
    "\n",
    "str = \"Javatpoint\"  \n",
    "# Calling function  \n",
    "str2 = str.isalpha()  \n",
    "# Displaying result  \n",
    "print(str2)  "
   ]
  },
  {
   "cell_type": "code",
   "execution_count": 35,
   "metadata": {},
   "outputs": [
    {
     "name": "stdout",
     "output_type": "stream",
     "text": [
      "False\n"
     ]
    }
   ],
   "source": [
    "str = \"Welcometo the Javatpoint\"  \n",
    "# Calling function  \n",
    "str2 = str.isalpha()  \n",
    "# Displaying result  \n",
    "print(str2)  "
   ]
  },
  {
   "cell_type": "code",
   "execution_count": 36,
   "metadata": {},
   "outputs": [
    {
     "name": "stdout",
     "output_type": "stream",
     "text": [
      "False\n"
     ]
    }
   ],
   "source": [
    "#14.isdecimal()\n",
    "str = \"Javatpoint\"  \n",
    "# Calling function  \n",
    "str2 = str.isdecimal()  \n",
    "# Displaying result  \n",
    "print(str2)  "
   ]
  },
  {
   "cell_type": "code",
   "execution_count": 38,
   "metadata": {},
   "outputs": [
    {
     "name": "stdout",
     "output_type": "stream",
     "text": [
      "True\n",
      "False\n"
     ]
    }
   ],
   "source": [
    "str = \"123\"     # True  \n",
    "str3 = \"2.50\"   # False  \n",
    "# Calling function  \n",
    "str2 = str.isdecimal()  \n",
    "str4 = str3.isdecimal()  \n",
    "# Displaying result  \n",
    "print(str2)  \n",
    "print(str4)  "
   ]
  },
  {
   "cell_type": "code",
   "execution_count": 39,
   "metadata": {},
   "outputs": [
    {
     "name": "stdout",
     "output_type": "stream",
     "text": [
      "True\n"
     ]
    }
   ],
   "source": [
    "#15.isdigit()\n",
    "str = '12345'  \n",
    "# Calling function  \n",
    "str2 = str.isdigit()  \n",
    "# Displaying result  \n",
    "print(str2)  "
   ]
  },
  {
   "cell_type": "code",
   "execution_count": 40,
   "metadata": {},
   "outputs": [
    {
     "name": "stdout",
     "output_type": "stream",
     "text": [
      "True\n",
      "False\n"
     ]
    }
   ],
   "source": [
    "str = \"12345\"  \n",
    "str3 = \"120-2569-854\"  \n",
    "# Calling function  \n",
    "str2 = str.isdigit()  \n",
    "str4 = str3.isdigit()  \n",
    "# Displaying result  \n",
    "print(str2)  \n",
    "print(str4)  "
   ]
  },
  {
   "cell_type": "code",
   "execution_count": 41,
   "metadata": {},
   "outputs": [
    {
     "name": "stdout",
     "output_type": "stream",
     "text": [
      "True\n"
     ]
    }
   ],
   "source": [
    "#16.isidentifier()\n",
    "\n",
    "\n",
    "str = \"abcdef\"  \n",
    "# Calling function  \n",
    "str2 = str.isidentifier()  \n",
    "# Displaying result  \n",
    "print(str2)  "
   ]
  },
  {
   "cell_type": "code",
   "execution_count": 42,
   "metadata": {},
   "outputs": [
    {
     "name": "stdout",
     "output_type": "stream",
     "text": [
      "True\n",
      "False\n",
      "False\n"
     ]
    }
   ],
   "source": [
    "str = \"abcdef\"  \n",
    "str2 = \"20xyz\"  \n",
    "str3 = \"$abra\"  \n",
    "# Calling function  \n",
    "str4 = str.isidentifier()  \n",
    "str5 = str2.isidentifier()  \n",
    "str6 = str3.isidentifier()  \n",
    "# Displaying result  \n",
    "print(str4)  \n",
    "print(str5)  \n",
    "print(str6)  "
   ]
  },
  {
   "cell_type": "code",
   "execution_count": 43,
   "metadata": {},
   "outputs": [
    {
     "name": "stdout",
     "output_type": "stream",
     "text": [
      "True\n"
     ]
    }
   ],
   "source": [
    "#17.islower() \n",
    "str = \"javatpoint\"  \n",
    "# Calling function  \n",
    "str2 = str.islower()  \n",
    "# Displaying result  \n",
    "print(str2)"
   ]
  },
  {
   "cell_type": "code",
   "execution_count": 44,
   "metadata": {},
   "outputs": [
    {
     "name": "stdout",
     "output_type": "stream",
     "text": [
      "False\n"
     ]
    }
   ],
   "source": [
    "str = \"Welcome To JavaTpoint\"  \n",
    "# Calling function  \n",
    "str2 = str.islower()  \n",
    "# Displaying result  \n",
    "print(str2) "
   ]
  },
  {
   "cell_type": "code",
   "execution_count": 45,
   "metadata": {},
   "outputs": [
    {
     "name": "stdout",
     "output_type": "stream",
     "text": [
      "True\n"
     ]
    }
   ],
   "source": [
    "#18.isnumeric()\n",
    "str = \"12345\"  \n",
    "# Calling function  \n",
    "str2 = str.isnumeric()  \n",
    "# Displaying result  \n",
    "print(str2)  "
   ]
  },
  {
   "cell_type": "code",
   "execution_count": 46,
   "metadata": {},
   "outputs": [
    {
     "name": "stdout",
     "output_type": "stream",
     "text": [
      "False\n"
     ]
    }
   ],
   "source": [
    "str = \"javatpoint12345\"  \n",
    "# Calling function  \n",
    "str2 = str.isnumeric()  \n",
    "# Displaying result  \n",
    "print(str2)  "
   ]
  },
  {
   "cell_type": "code",
   "execution_count": 50,
   "metadata": {},
   "outputs": [
    {
     "name": "stdout",
     "output_type": "stream",
     "text": [
      "True\n",
      "False\n",
      "False\n"
     ]
    }
   ],
   "source": [
    "#19.isprintable()\n",
    "str = \"Hello, Javatpoint\"  \n",
    "str2 = \"Learn Java here\\n\"  \n",
    "str3 = \"\\t Python is a programming language\"  \n",
    "# Calling function  \n",
    "str4 = str.isprintable()  \n",
    "str5 = str2.isprintable()  \n",
    "str6 = str3.isprintable()  \n",
    "# Displaying result  \n",
    "print(str4)  \n",
    "print(str5)  \n",
    "print(str6)  "
   ]
  },
  {
   "cell_type": "code",
   "execution_count": 52,
   "metadata": {},
   "outputs": [
    {
     "name": "stdout",
     "output_type": "stream",
     "text": [
      "True\n",
      "False\n",
      "True\n"
     ]
    }
   ],
   "source": [
    "#20.isupper()\n",
    "str = \"WELCOME TO JAVATPOINT\"  \n",
    "str2 = str.isupper()  \n",
    "print(str2)  \n",
    "str3 = \"WELCOME To JAVATPOINT.\"  \n",
    "str4 = str3.isupper()  \n",
    "print(str4)  \n",
    "str5 = \"123 @#$ -JAVA.\"  \n",
    "str6 = str5.isupper()  \n",
    "print(str6)  "
   ]
  },
  {
   "cell_type": "code",
   "execution_count": null,
   "metadata": {},
   "outputs": [],
   "source": []
  }
 ],
 "metadata": {
  "kernelspec": {
   "display_name": "Python 3",
   "language": "python",
   "name": "python3"
  },
  "language_info": {
   "codemirror_mode": {
    "name": "ipython",
    "version": 3
   },
   "file_extension": ".py",
   "mimetype": "text/x-python",
   "name": "python",
   "nbconvert_exporter": "python",
   "pygments_lexer": "ipython3",
   "version": "3.7.6"
  }
 },
 "nbformat": 4,
 "nbformat_minor": 4
}
