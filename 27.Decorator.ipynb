{
 "cells": [
  {
   "cell_type": "markdown",
   "metadata": {},
   "source": [
    "# 27.Decorator"
   ]
  },
  {
   "cell_type": "markdown",
   "metadata": {},
   "source": [
    "* Decorators are one of the most helpful and powerful tools of Python. These are used to modify the behavior of the function. Decorators provide the flexibility to wrap another function to expand the working of wrapped function, without permanently modifying it.\n",
    "\n",
    "* \"In Decorators, functions are passed as an argument into another function and then called inside the wrapper function.\"\n",
    "\n",
    "* It is also called meta programming where a part of the program attempts to change another part of program at compile time.\n",
    "\n"
   ]
  },
  {
   "cell_type": "markdown",
   "metadata": {},
   "source": [
    "* What are the functions in Python?"
   ]
  },
  {
   "cell_type": "code",
   "execution_count": 2,
   "metadata": {},
   "outputs": [
    {
     "name": "stdout",
     "output_type": "stream",
     "text": [
      "Hii\n",
      "Hii\n"
     ]
    }
   ],
   "source": [
    "def func1(a):  \n",
    "    print(a)  \n",
    "    \n",
    "    \n",
    "func1(\"Hii\")  \n",
    "\n",
    "func2 = func1 \n",
    "\n",
    "func2(\"Hii\")  "
   ]
  },
  {
   "cell_type": "markdown",
   "metadata": {},
   "source": [
    "* Inner Function"
   ]
  },
  {
   "cell_type": "code",
   "execution_count": 4,
   "metadata": {},
   "outputs": [
    {
     "name": "stdout",
     "output_type": "stream",
     "text": [
      "We are in first function\n",
      " This is second child function\n",
      "This is first child function\n"
     ]
    }
   ],
   "source": [
    "def func():  \n",
    "    print(\"We are in first function\")  \n",
    "    \n",
    "    def func1():  \n",
    "        print(\"This is first child function\")  \n",
    "    \n",
    "    def func2():  \n",
    "        print(\" This is second child function\")  \n",
    "    \n",
    "    func2()  \n",
    "    \n",
    "    func1()  \n",
    "\n",
    "func()  "
   ]
  },
  {
   "cell_type": "code",
   "execution_count": 5,
   "metadata": {},
   "outputs": [
    {
     "name": "stdout",
     "output_type": "stream",
     "text": [
      "9\n",
      "21\n"
     ]
    }
   ],
   "source": [
    "def add(x):  \n",
    "    return x+1  \n",
    "\n",
    "def sub(x):  \n",
    "    return x-1  \n",
    "\n",
    "def operator(func, x):  \n",
    "    temp = func(x)  \n",
    "    return temp  \n",
    "\n",
    "print(operator(sub,10))  \n",
    "\n",
    "print(operator(add,20))  \n"
   ]
  },
  {
   "cell_type": "code",
   "execution_count": 6,
   "metadata": {},
   "outputs": [
    {
     "name": "stdout",
     "output_type": "stream",
     "text": [
      "Hello\n"
     ]
    }
   ],
   "source": [
    "def hello():  \n",
    "    def hi():  \n",
    "        print(\"Hello\")  \n",
    "    return hi  \n",
    "\n",
    "new = hello()  \n",
    "\n",
    "new()  "
   ]
  },
  {
   "cell_type": "markdown",
   "metadata": {},
   "source": [
    "* Decorating functions with parameters"
   ]
  },
  {
   "cell_type": "code",
   "execution_count": 12,
   "metadata": {},
   "outputs": [
    {
     "name": "stdout",
     "output_type": "stream",
     "text": [
      "2.0\n"
     ]
    }
   ],
   "source": [
    "def divide(x,y):  \n",
    "    print(x/y)  \n",
    "    \n",
    "def outer_div(func):  \n",
    "    def inner(x,y):  \n",
    "        if(x<y):  \n",
    "            x,y = y,x  \n",
    "            return func(x,y)  \n",
    "    return inner  \n",
    "\n",
    "divide1 = outer_div(divide)  \n",
    "\n",
    "divide1(2,4) "
   ]
  },
  {
   "cell_type": "markdown",
   "metadata": {},
   "source": [
    "* Syntactic Decorator"
   ]
  },
  {
   "cell_type": "code",
   "execution_count": 14,
   "metadata": {},
   "outputs": [],
   "source": [
    "def outer_div(func):  \n",
    "    def inner(x,y):  \n",
    "        if(x<y):  \n",
    "            x,y = y,x  \n",
    "            return func(x,y)  \n",
    "    return inner  \n",
    "\n",
    "# syntax of generator  \n",
    "@outer_div  \n",
    "def divide(x,y):  \n",
    "     print(x/y)  "
   ]
  },
  {
   "cell_type": "markdown",
   "metadata": {},
   "source": [
    "* Reusing Decorator"
   ]
  },
  {
   "cell_type": "code",
   "execution_count": 17,
   "metadata": {},
   "outputs": [],
   "source": [
    "def do_twice(func):  \n",
    "    def wrapper_do_twice():  \n",
    "        func()  \n",
    "        func()  \n",
    "    return wrapper_do_twice  \n"
   ]
  },
  {
   "cell_type": "code",
   "execution_count": 19,
   "metadata": {},
   "outputs": [
    {
     "name": "stdout",
     "output_type": "stream",
     "text": [
      "Hello There\n",
      "Hello There\n"
     ]
    }
   ],
   "source": [
    "\n",
    "@do_twice  \n",
    "\n",
    "def say_hello():  \n",
    "    print(\"Hello There\")  \n",
    "say_hello()  "
   ]
  },
  {
   "cell_type": "code",
   "execution_count": 34,
   "metadata": {},
   "outputs": [
    {
     "name": "stdout",
     "output_type": "stream",
     "text": [
      "Before calling simbu\n",
      "Hi, foo has been called with Hi\n",
      "After calling simbu\n"
     ]
    }
   ],
   "source": [
    "def karthi(func):\n",
    "    def function_wrapper(x):\n",
    "        print(\"Before calling \" + func.__name__)\n",
    "        func(x)\n",
    "        print(\"After calling \" + func.__name__)\n",
    "    return function_wrapper\n",
    "\n",
    "@karthi\n",
    "def simbu(x):\n",
    "    print(\"Hi, foo has been called with \" + str(x))\n",
    "\n",
    "simbu(\"Hi\")"
   ]
  },
  {
   "cell_type": "markdown",
   "metadata": {},
   "source": [
    "* Fancy Decorators"
   ]
  },
  {
   "cell_type": "code",
   "execution_count": 35,
   "metadata": {},
   "outputs": [
    {
     "name": "stdout",
     "output_type": "stream",
     "text": [
      "Name: John\n",
      "Grade: B\n",
      "John got grade B\n"
     ]
    }
   ],
   "source": [
    "class Student:  \n",
    "    def __init__(self,name,grade):  \n",
    "        self.name = name  \n",
    "        self.grade = grade  \n",
    "    @property  \n",
    "    def display(self):  \n",
    "         return self.name + \" got grade \" + self.grade  \n",
    "        \n",
    "        \n",
    "stu = Student(\"John\",\"B\")  \n",
    "\n",
    "print(\"Name:\", stu.name)  \n",
    "\n",
    "print(\"Grade:\", stu.grade)  \n",
    "\n",
    "print(stu.display)  \n"
   ]
  },
  {
   "cell_type": "code",
   "execution_count": null,
   "metadata": {},
   "outputs": [],
   "source": []
  }
 ],
 "metadata": {
  "kernelspec": {
   "display_name": "Python 3",
   "language": "python",
   "name": "python3"
  },
  "language_info": {
   "codemirror_mode": {
    "name": "ipython",
    "version": 3
   },
   "file_extension": ".py",
   "mimetype": "text/x-python",
   "name": "python",
   "nbconvert_exporter": "python",
   "pygments_lexer": "ipython3",
   "version": "3.7.6"
  }
 },
 "nbformat": 4,
 "nbformat_minor": 4
}
