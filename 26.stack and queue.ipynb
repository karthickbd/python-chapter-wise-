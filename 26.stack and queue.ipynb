{
 "cells": [
  {
   "cell_type": "markdown",
   "metadata": {},
   "source": [
    "# 26.stack and queue"
   ]
  },
  {
   "cell_type": "markdown",
   "metadata": {},
   "source": [
    "<img src='28.png'/>"
   ]
  },
  {
   "cell_type": "code",
   "execution_count": 3,
   "metadata": {},
   "outputs": [
    {
     "name": "stdout",
     "output_type": "stream",
     "text": [
      "['Python', 'C', 'Android', 'Java', 'C++']\n",
      "C++\n",
      "['Python', 'C', 'Android', 'Java']\n",
      "Java\n",
      "['Python', 'C', 'Android']\n"
     ]
    }
   ],
   "source": [
    "# Code to demonstrate Implementation of   \n",
    "# stack using list   \n",
    "x=[\"Python\", \"C\", \"Android\"]   \n",
    "x.append(\"Java\")   \n",
    "x.append(\"C++\")   \n",
    "print(x)   \n",
    "print(x.pop())   \n",
    "print(x)   \n",
    "print(x.pop())   \n",
    "print(x)   "
   ]
  },
  {
   "cell_type": "markdown",
   "metadata": {},
   "source": [
    "<img src='29.png'/>"
   ]
  },
  {
   "cell_type": "code",
   "execution_count": 4,
   "metadata": {},
   "outputs": [
    {
     "name": "stdout",
     "output_type": "stream",
     "text": [
      "9\n",
      "6\n",
      "7\n",
      "4\n"
     ]
    }
   ],
   "source": [
    "import queue   \n",
    "# Queue is created as an object 'L'  \n",
    "L = queue.Queue(maxsize=10)   \n",
    "  \n",
    "# Data is inserted in 'L' at the end using put()   \n",
    "L.put(9)   \n",
    "L.put(6)   \n",
    "L.put(7)   \n",
    "L.put(4)   \n",
    "# get() takes data from   \n",
    "# from the head    \n",
    "# of the Queue   \n",
    "print(L.get())   \n",
    "print(L.get())   \n",
    "print(L.get())   \n",
    "print(L.get())   "
   ]
  },
  {
   "cell_type": "code",
   "execution_count": null,
   "metadata": {},
   "outputs": [],
   "source": []
  }
 ],
 "metadata": {
  "kernelspec": {
   "display_name": "Python 3",
   "language": "python",
   "name": "python3"
  },
  "language_info": {
   "codemirror_mode": {
    "name": "ipython",
    "version": 3
   },
   "file_extension": ".py",
   "mimetype": "text/x-python",
   "name": "python",
   "nbconvert_exporter": "python",
   "pygments_lexer": "ipython3",
   "version": "3.7.6"
  }
 },
 "nbformat": 4,
 "nbformat_minor": 4
}
