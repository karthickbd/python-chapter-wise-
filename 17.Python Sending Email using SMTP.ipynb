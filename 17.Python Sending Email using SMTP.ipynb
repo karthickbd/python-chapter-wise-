{
 "cells": [
  {
   "cell_type": "markdown",
   "metadata": {},
   "source": [
    "# 17.Python Sending Email using SMTP"
   ]
  },
  {
   "cell_type": "markdown",
   "metadata": {},
   "source": [
    "* Simple Mail Transfer Protocol (SMTP) is used as a protocol to handle the email transfer using Python. It is used to route emails between email servers. It is an application layer protocol which allows to users to send mail to another. The receiver retrieves email using the protocols POP(Post Office Protocol) and IMAP(Internet Message Access Protocol)."
   ]
  },
  {
   "cell_type": "code",
   "execution_count": 3,
   "metadata": {},
   "outputs": [
    {
     "name": "stdout",
     "output_type": "stream",
     "text": [
      "Error: unable to send email\n"
     ]
    }
   ],
   "source": [
    "#!/usr/bin/python3    \n",
    "import smtplib    \n",
    "sender_mail = 'simbu2819@gmail.com'    \n",
    "receivers_mail = ['karthick931@gmail.com']    \n",
    "message = \"\"\"From: From Person %s  \n",
    "To: To Person %s  \n",
    "Subject: Sending SMTP e-mail   \n",
    "This is a test e-mail message.  \n",
    "\"\"\"%(sender_mail,receivers_mail)    \n",
    "try:    \n",
    "    smtpObj = smtplib.SMTP(\"gmail.com\", 587)    \n",
    "    smtpObj.sendmail(sender_mail, receivers_mail, message)    \n",
    "    print(\"Successfully sent email\")    \n",
    "except Exception:    \n",
    "    print(\"Error: unable to send email\")    "
   ]
  },
  {
   "cell_type": "code",
   "execution_count": 4,
   "metadata": {},
   "outputs": [
    {
     "name": "stdout",
     "output_type": "stream",
     "text": [
      "Enter the passwordAbsimbu1928@\n",
      "Error: unable to send email\n"
     ]
    }
   ],
   "source": [
    "#!/usr/bin/python3    \n",
    "import smtplib    \n",
    "sender_mail = 'simbu2819@gmail.com'    \n",
    "receivers_mail = ['karthick931@gmail.com']    \n",
    "message = \"\"\"From: From Person %s  \n",
    "To: To Person %s  \n",
    "Subject: Sending SMTP e-mail   \n",
    "This is a test e-mail message.  \n",
    "\"\"\"%(sender_mail,receivers_mail)    \n",
    "try:    \n",
    "    password = input('Enter the password');    \n",
    "    smtpObj = smtplib.SMTP('gmail.com',587)    \n",
    "    smtpobj.login(sender_mail,password)    \n",
    "    smtpObj.sendmail(sender_mail, receivers_mail, message)    \n",
    "    print(\"Successfully sent email\")    \n",
    "except Exception:    \n",
    "    print(\"Error: unable to send email\")    "
   ]
  },
  {
   "cell_type": "code",
   "execution_count": null,
   "metadata": {},
   "outputs": [],
   "source": []
  }
 ],
 "metadata": {
  "kernelspec": {
   "display_name": "Python 3",
   "language": "python",
   "name": "python3"
  },
  "language_info": {
   "codemirror_mode": {
    "name": "ipython",
    "version": 3
   },
   "file_extension": ".py",
   "mimetype": "text/x-python",
   "name": "python",
   "nbconvert_exporter": "python",
   "pygments_lexer": "ipython3",
   "version": "3.7.6"
  }
 },
 "nbformat": 4,
 "nbformat_minor": 4
}
