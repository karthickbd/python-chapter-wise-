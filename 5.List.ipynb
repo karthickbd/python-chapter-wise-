{
 "cells": [
  {
   "cell_type": "markdown",
   "metadata": {},
   "source": [
    "# 5.LIST"
   ]
  },
  {
   "cell_type": "markdown",
   "metadata": {},
   "source": [
    "* A list in Python is used to store the sequence of various types of data. Python lists are mutable type its mean we can modify its element after it created. However, Python consists of six data-types that are capable to store the sequences, but the most common and reliable type is the list."
   ]
  },
  {
   "cell_type": "code",
   "execution_count": 2,
   "metadata": {},
   "outputs": [],
   "source": [
    "L1 = [\"John\", 102, \"USA\"]    \n",
    "L2 = [1, 2, 3, 4, 5, 6]   "
   ]
  },
  {
   "cell_type": "code",
   "execution_count": 3,
   "metadata": {},
   "outputs": [
    {
     "name": "stdout",
     "output_type": "stream",
     "text": [
      "<class 'list'>\n",
      "<class 'list'>\n"
     ]
    }
   ],
   "source": [
    "print(type(L1))  \n",
    "print(type(L2))  "
   ]
  },
  {
   "cell_type": "code",
   "execution_count": 4,
   "metadata": {},
   "outputs": [
    {
     "data": {
      "text/plain": [
       "False"
      ]
     },
     "execution_count": 4,
     "metadata": {},
     "output_type": "execute_result"
    }
   ],
   "source": [
    "a = [1,2,\"Peter\",4.50,\"Ricky\",5,6]  \n",
    "\n",
    "\n",
    "b = [1,2,5,\"Peter\",4.50,\"Ricky\",6]  \n",
    "\n",
    "a==b  "
   ]
  },
  {
   "cell_type": "code",
   "execution_count": 5,
   "metadata": {},
   "outputs": [
    {
     "data": {
      "text/plain": [
       "True"
      ]
     },
     "execution_count": 5,
     "metadata": {},
     "output_type": "execute_result"
    }
   ],
   "source": [
    "a = [1, 2,\"Peter\", 4.50,\"Ricky\",5, 6]  \n",
    "b = [1, 2,\"Peter\", 4.50,\"Ricky\",5, 6]  \n",
    "a == b  "
   ]
  },
  {
   "cell_type": "code",
   "execution_count": 6,
   "metadata": {},
   "outputs": [
    {
     "name": "stdout",
     "output_type": "stream",
     "text": [
      "printing employee data...\n",
      "Name : John, ID: 102, Country: USA\n",
      "printing departments...\n",
      "Department 1:\n",
      "Name: CS, ID: 11\n",
      "Department 2:\n",
      "Name: IT, ID: 11\n",
      "HOD Details ....\n",
      "CS HOD Name: Mr. Holding, Id: 10\n",
      "IT HOD Name: Mr. Bewon, Id: 11\n",
      "<class 'list'> <class 'list'> <class 'list'> <class 'list'> <class 'list'>\n"
     ]
    }
   ],
   "source": [
    "emp = [\"John\", 102, \"USA\"]     \n",
    "Dep1 = [\"CS\",10]  \n",
    "Dep2 = [\"IT\",11]    \n",
    "HOD_CS = [10,\"Mr. Holding\"]    \n",
    "HOD_IT = [11, \"Mr. Bewon\"]  \n",
    "\n",
    "print(\"printing employee data...\") \n",
    "\n",
    "print(\"Name : %s, ID: %d, Country: %s\"%(emp[0],emp[1],emp[2]))    \n",
    "\n",
    "print(\"printing departments...\")   \n",
    "\n",
    "print(\"Department 1:\\nName: %s, ID: %d\\nDepartment 2:\\nName: %s, ID: %s\"%(Dep1[0],Dep2[1],Dep2[0],Dep2[1]))    \n",
    "\n",
    "print(\"HOD Details ....\")    \n",
    "\n",
    "print(\"CS HOD Name: %s, Id: %d\"%(HOD_CS[1],HOD_CS[0]))    \n",
    "\n",
    "print(\"IT HOD Name: %s, Id: %d\"%(HOD_IT[1],HOD_IT[0]))    \n",
    "\n",
    "print(type(emp),type(Dep1),type(Dep2),type(HOD_CS),type(HOD_IT))  "
   ]
  },
  {
   "cell_type": "code",
   "execution_count": 10,
   "metadata": {},
   "outputs": [
    {
     "name": "stdout",
     "output_type": "stream",
     "text": [
      "1\n",
      "2\n",
      "3\n",
      "4\n",
      "[1, 2, 3, 4, 5, 6]\n",
      "[1, 2, 3, 4, 5, 6, 7]\n",
      "[3, 4, 5]\n",
      "[2, 4, 6]\n"
     ]
    }
   ],
   "source": [
    "list = [1,2,3,4,5,6,7]  \n",
    "\n",
    "print(list[0])  \n",
    "\n",
    "print(list[1])  \n",
    "\n",
    "print(list[2])  \n",
    "\n",
    "print(list[3])  \n",
    "\n",
    "# Slicing the elements  \n",
    "print(list[0:6])  \n",
    "\n",
    "# By default the index value is 0 so its starts from the 0th element and go for index -1.  \n",
    "print(list[:])  \n",
    "\n",
    "print(list[2:5])  \n",
    "\n",
    "print(list[1:6:2])  "
   ]
  },
  {
   "cell_type": "code",
   "execution_count": 11,
   "metadata": {},
   "outputs": [
    {
     "name": "stdout",
     "output_type": "stream",
     "text": [
      "5\n",
      "[3, 4, 5]\n",
      "[1, 2, 3, 4]\n",
      "[3, 4]\n"
     ]
    }
   ],
   "source": [
    "list = [1,2,3,4,5]\n",
    "\n",
    "print(list[-1])  \n",
    "\n",
    "print(list[-3:])  \n",
    "\n",
    "print(list[:-1])  \n",
    "\n",
    "print(list[-3:-1])  "
   ]
  },
  {
   "cell_type": "markdown",
   "metadata": {},
   "source": [
    "* Updating List values"
   ]
  },
  {
   "cell_type": "code",
   "execution_count": 13,
   "metadata": {},
   "outputs": [
    {
     "name": "stdout",
     "output_type": "stream",
     "text": [
      "[1, 2, 3, 4, 5, 6]\n",
      "[1, 2, 10, 4, 5, 6]\n",
      "[1, 89, 78, 4, 5, 6]\n",
      "[1, 89, 78, 4, 5, 25]\n"
     ]
    }
   ],
   "source": [
    "list = [1, 2, 3, 4, 5, 6]     \n",
    "print(list)     \n",
    "\n",
    "# It will assign value to the value to the second index   \n",
    "list[2] = 10   \n",
    "print(list)    \n",
    "\n",
    "# Adding multiple-element   \n",
    "list[1:3] = [89, 78]     \n",
    "print(list)   \n",
    "\n",
    "# It will add value at the end of the list  \n",
    "list[-1] = 25  \n",
    "print(list)  "
   ]
  },
  {
   "cell_type": "code",
   "execution_count": 17,
   "metadata": {},
   "outputs": [
    {
     "name": "stdout",
     "output_type": "stream",
     "text": [
      "Repetition:  [1, 2, 3, 4, 1, 2, 3, 4]\n",
      "Concatenation:  [1, 2, 3, 4, 5, 6, 7, 8]\n",
      "True\n",
      "1\n",
      "2\n",
      "3\n",
      "4\n",
      "5\n",
      "6\n",
      "7\n",
      "8\n",
      "length 4\n"
     ]
    }
   ],
   "source": [
    "l1 = [1, 2, 3, 4]\n",
    "l2 = [5, 6, 7, 8]\n",
    "\n",
    "#Repetition\n",
    "a=l1*2\n",
    "\n",
    "print('Repetition: ',a)\n",
    "\n",
    "#Concatenation\n",
    "\n",
    "b=l1+l2\n",
    "print('Concatenation: ',b)\n",
    "\n",
    "#Membership\n",
    "print(2 in l1)\n",
    "\n",
    "#Iteration\n",
    "for i in b: \n",
    "    print(i)\n",
    "    \n",
    "print('length',len(l1))\n"
   ]
  },
  {
   "cell_type": "markdown",
   "metadata": {},
   "source": [
    "* Iterating a List"
   ]
  },
  {
   "cell_type": "code",
   "execution_count": 19,
   "metadata": {},
   "outputs": [
    {
     "name": "stdout",
     "output_type": "stream",
     "text": [
      "John\n",
      "David\n",
      "James\n",
      "Jonathan\n"
     ]
    }
   ],
   "source": [
    "list = [\"John\", \"David\", \"James\", \"Jonathan\"]    \n",
    "for i in list:   \n",
    "    # The i variable will iterate over the elements of the List and contains each element in each iteration.     \n",
    "    print(i)  "
   ]
  },
  {
   "cell_type": "markdown",
   "metadata": {},
   "source": [
    "* Adding elements to the list"
   ]
  },
  {
   "cell_type": "code",
   "execution_count": 1,
   "metadata": {},
   "outputs": [
    {
     "name": "stdout",
     "output_type": "stream",
     "text": [
      "John\n",
      "David\n",
      "karthi\n",
      "Jonathan\n"
     ]
    }
   ],
   "source": [
    "list = [\"John\", \"David\", \"James\", \"Jonathan\"]   \n",
    "\n",
    "list[2]='karthi'\n",
    "\n",
    "\n",
    "for i in list:\n",
    "    print(i)"
   ]
  },
  {
   "cell_type": "markdown",
   "metadata": {},
   "source": [
    "* list Methods "
   ]
  },
  {
   "cell_type": "code",
   "execution_count": 39,
   "metadata": {},
   "outputs": [
    {
     "name": "stdout",
     "output_type": "stream",
     "text": [
      "['John', 'David', 'James', 'Jonathan', 123, 123, 'James', 'karthi']\n"
     ]
    }
   ],
   "source": [
    "# 1.list.append()\n",
    "simbu = [\"John\", \"David\", \"James\", \"Jonathan\",123,123,'James']  \n",
    "simbu.append('karthi')\n",
    "\n",
    "print(simbu)"
   ]
  },
  {
   "cell_type": "code",
   "execution_count": 17,
   "metadata": {},
   "outputs": [
    {
     "name": "stdout",
     "output_type": "stream",
     "text": [
      "2\n",
      "2\n"
     ]
    }
   ],
   "source": [
    "#2.list.count()\n",
    "print(simbu.count('James'))\n",
    "print(simbu.count(123))\n"
   ]
  },
  {
   "cell_type": "code",
   "execution_count": 18,
   "metadata": {},
   "outputs": [
    {
     "name": "stdout",
     "output_type": "stream",
     "text": [
      "['John', 'David', 'James', 'Jonathan', 123, 123, 'James', 'karthi', 'x', 1, 2, 3]\n"
     ]
    }
   ],
   "source": [
    "#3.list.extend()\n",
    "\n",
    "karthi=['x',1,2,3]\n",
    "\n",
    "simbu.extend(karthi)\n",
    "\n",
    "print(simbu)"
   ]
  },
  {
   "cell_type": "code",
   "execution_count": 28,
   "metadata": {},
   "outputs": [
    {
     "name": "stdout",
     "output_type": "stream",
     "text": [
      "0\n"
     ]
    }
   ],
   "source": [
    "# 4.list.index()\n",
    "\n",
    "\n",
    "print(karthi.index('x'))\n"
   ]
  },
  {
   "cell_type": "code",
   "execution_count": 34,
   "metadata": {},
   "outputs": [
    {
     "name": "stdout",
     "output_type": "stream",
     "text": [
      "None\n"
     ]
    }
   ],
   "source": [
    "#5. list.insert()\n",
    "karthi=['x',1,2,3]\n",
    "\n",
    "print(karthi.insert(2,'b'))\n",
    "\n"
   ]
  },
  {
   "cell_type": "code",
   "execution_count": 35,
   "metadata": {},
   "outputs": [
    {
     "name": "stdout",
     "output_type": "stream",
     "text": [
      "['x', 1, 'b', 2, 3]\n"
     ]
    }
   ],
   "source": [
    "print(karthi)"
   ]
  },
  {
   "cell_type": "code",
   "execution_count": 33,
   "metadata": {},
   "outputs": [
    {
     "name": "stdout",
     "output_type": "stream",
     "text": [
      "[1, 2, 3, 4, 10, 5, 6, 7]\n",
      "['z', 'a', 'b', 'c', 'd', 'e']\n"
     ]
    }
   ],
   "source": [
    "# Python3 program for use \n",
    "# of insert() method \n",
    "\n",
    "list1 = [ 1, 2, 3, 4, 5, 6, 7 ] \n",
    "\n",
    "# insert 10 at 4th index \n",
    "list1.insert(4, 10) \n",
    "print(list1) \n",
    "\n",
    "list2 = ['a', 'b', 'c', 'd', 'e'] \n",
    "\n",
    "# insert z at the front of the list \n",
    "list2.insert(0, 'z') \n",
    "print(list2) \n"
   ]
  },
  {
   "cell_type": "code",
   "execution_count": 36,
   "metadata": {},
   "outputs": [
    {
     "name": "stdout",
     "output_type": "stream",
     "text": [
      "[1, 2, 3, 4, 10, 5, 6]\n"
     ]
    }
   ],
   "source": [
    "# 6.list.pop()\n",
    "\n",
    "list1.pop()\n",
    "print(list1)"
   ]
  },
  {
   "cell_type": "code",
   "execution_count": 41,
   "metadata": {},
   "outputs": [
    {
     "name": "stdout",
     "output_type": "stream",
     "text": [
      "['z', 'a', 'b', 'd', 'e']\n"
     ]
    }
   ],
   "source": [
    "# 7.list.remove()\n",
    "\n",
    "list2.remove('c')\n",
    "print(list2)"
   ]
  },
  {
   "cell_type": "code",
   "execution_count": 55,
   "metadata": {},
   "outputs": [
    {
     "name": "stdout",
     "output_type": "stream",
     "text": [
      "[10, 2, 3, 2, 1]\n"
     ]
    }
   ],
   "source": [
    "# 8.list.reverse()\n",
    "\n",
    "# Python3 program for the \n",
    "# practical application of reverse() \n",
    "\n",
    "list1 = [1, 2, 3, 2, 10] \n",
    "\n",
    "# store a copy of list \n",
    "list2 = list1.copy() \n",
    "\n",
    "# reverse the list \n",
    "list2.reverse() \n",
    "\n",
    "print(list2)"
   ]
  },
  {
   "cell_type": "code",
   "execution_count": 56,
   "metadata": {},
   "outputs": [
    {
     "name": "stdout",
     "output_type": "stream",
     "text": [
      "[1, 2, 2, 3, 10]\n"
     ]
    }
   ],
   "source": [
    "#9. list.sort()\n",
    "list1 = [1, 2, 3, 2, 10] \n",
    "list1.sort()\n",
    "\n",
    "\n",
    "print(list1)"
   ]
  },
  {
   "cell_type": "code",
   "execution_count": 57,
   "metadata": {},
   "outputs": [
    {
     "name": "stdout",
     "output_type": "stream",
     "text": [
      "72\n"
     ]
    }
   ],
   "source": [
    "L1 = [12,34,26,48,72]\n",
    "print(max(L1))"
   ]
  },
  {
   "cell_type": "code",
   "execution_count": 59,
   "metadata": {},
   "outputs": [
    {
     "name": "stdout",
     "output_type": "stream",
     "text": [
      "12\n"
     ]
    }
   ],
   "source": [
    "L1 = [12,34,26,48,72]\n",
    "print(min(L1))"
   ]
  },
  {
   "cell_type": "code",
   "execution_count": 60,
   "metadata": {},
   "outputs": [
    {
     "name": "stdout",
     "output_type": "stream",
     "text": [
      "8\n"
     ]
    }
   ],
   "source": [
    "L1 = [1,2,3,4,5,6,7,8]\n",
    "print(len(L1))"
   ]
  },
  {
   "cell_type": "code",
   "execution_count": null,
   "metadata": {},
   "outputs": [],
   "source": []
  }
 ],
 "metadata": {
  "kernelspec": {
   "display_name": "Python 3",
   "language": "python",
   "name": "python3"
  },
  "language_info": {
   "codemirror_mode": {
    "name": "ipython",
    "version": 3
   },
   "file_extension": ".py",
   "mimetype": "text/x-python",
   "name": "python",
   "nbconvert_exporter": "python",
   "pygments_lexer": "ipython3",
   "version": "3.7.6"
  }
 },
 "nbformat": 4,
 "nbformat_minor": 4
}
