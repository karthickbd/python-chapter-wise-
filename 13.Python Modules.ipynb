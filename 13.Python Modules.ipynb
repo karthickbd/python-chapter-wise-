{
 "cells": [
  {
   "cell_type": "markdown",
   "metadata": {},
   "source": [
    "# 13.Python Modules"
   ]
  },
  {
   "cell_type": "markdown",
   "metadata": {},
   "source": [
    "* A python module can be defined as a python program file which contains a python code including python functions, class, or variables. In other words, we can say that our python code file saved with the extension (.py) is treated as the module. We may have a runnable code inside the python module.\n",
    "\n",
    "* Modules in Python provides us the flexibility to organize the code in a logical way.\n",
    "\n",
    "* To use the functionality of one module into another, we must have to import the specific module."
   ]
  },
  {
   "cell_type": "code",
   "execution_count": 3,
   "metadata": {},
   "outputs": [
    {
     "name": "stdout",
     "output_type": "stream",
     "text": [
      "Enter the first number10\n",
      "Enter the second number20\n",
      "Sum =  30\n",
      "multi=  200\n"
     ]
    }
   ],
   "source": [
    "from simbu import summation,multiplication    \n",
    "\n",
    "\n",
    "#it will import only the summation() from calculation.py  \n",
    "a = int(input(\"Enter the first number\"))  \n",
    "b = int(input(\"Enter the second number\"))  \n",
    "print(\"Sum = \",summation(a,b)) #we do not need to specify the module name while accessing summation()  \n",
    "\n",
    "print(\"multi= \",multiplication(a,b))"
   ]
  },
  {
   "cell_type": "markdown",
   "metadata": {},
   "source": [
    "<img src=\"7.png\"/>"
   ]
  },
  {
   "cell_type": "code",
   "execution_count": null,
   "metadata": {},
   "outputs": [],
   "source": []
  }
 ],
 "metadata": {
  "kernelspec": {
   "display_name": "Python 3",
   "language": "python",
   "name": "python3"
  },
  "language_info": {
   "codemirror_mode": {
    "name": "ipython",
    "version": 3
   },
   "file_extension": ".py",
   "mimetype": "text/x-python",
   "name": "python",
   "nbconvert_exporter": "python",
   "pygments_lexer": "ipython3",
   "version": "3.7.6"
  }
 },
 "nbformat": 4,
 "nbformat_minor": 4
}
