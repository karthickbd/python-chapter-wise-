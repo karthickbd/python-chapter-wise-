{
 "cells": [
  {
   "cell_type": "markdown",
   "metadata": {},
   "source": [
    "# 21.Python Collection Module"
   ]
  },
  {
   "cell_type": "markdown",
   "metadata": {},
   "source": [
    "* The Python collection module is defined as a container that is used to store collections of data, for example - list, dict, set, and tuple, etc. It was introduced to improve the functionalities of the built-in collection containers."
   ]
  },
  {
   "cell_type": "markdown",
   "metadata": {},
   "source": [
    "* namedtuple()"
   ]
  },
  {
   "cell_type": "code",
   "execution_count": 2,
   "metadata": {},
   "outputs": [
    {
     "name": "stdout",
     "output_type": "stream",
     "text": [
      "('James', 24, 'M')\n"
     ]
    }
   ],
   "source": [
    "simbu = ('James', 24, 'M')    \n",
    "print(simbu)   "
   ]
  },
  {
   "cell_type": "markdown",
   "metadata": {},
   "source": [
    "* OrderedDict()"
   ]
  },
  {
   "cell_type": "code",
   "execution_count": 3,
   "metadata": {},
   "outputs": [
    {
     "name": "stdout",
     "output_type": "stream",
     "text": [
      "A 10\n",
      "C 12\n",
      "B 11\n",
      "D 13\n"
     ]
    }
   ],
   "source": [
    "import collections    \n",
    "d1=collections.OrderedDict()    \n",
    "d1['A']=10    \n",
    "d1['C']=12    \n",
    "d1['B']=11    \n",
    "d1['D']=13    \n",
    "    \n",
    "for k,v in d1.items():    \n",
    "    print (k,v)    "
   ]
  },
  {
   "cell_type": "markdown",
   "metadata": {},
   "source": [
    "* defaultdict()"
   ]
  },
  {
   "cell_type": "code",
   "execution_count": 4,
   "metadata": {},
   "outputs": [
    {
     "name": "stdout",
     "output_type": "stream",
     "text": [
      "0\n"
     ]
    }
   ],
   "source": [
    "from collections import defaultdict      \n",
    "number = defaultdict(int)      \n",
    "number['one'] = 1      \n",
    "number['two'] = 2      \n",
    "print(number['three'])    "
   ]
  },
  {
   "cell_type": "markdown",
   "metadata": {},
   "source": [
    "* Counter()"
   ]
  },
  {
   "cell_type": "code",
   "execution_count": 6,
   "metadata": {},
   "outputs": [
    {
     "name": "stdout",
     "output_type": "stream",
     "text": [
      "3\n"
     ]
    }
   ],
   "source": [
    "from collections import Counter      \n",
    "c = Counter()    \n",
    "\n",
    "list = [1,2,3,4,5,7,8,5,9,6,10]      \n",
    "Counter(list)    \n",
    "Counter({1:5,2:4})      \n",
    "\n",
    "list = [1,2,4,7,5,1,6,7,6,9,1]      \n",
    "c = Counter(list)      \n",
    "print(c[1])     "
   ]
  },
  {
   "cell_type": "markdown",
   "metadata": {},
   "source": [
    "* deque()"
   ]
  },
  {
   "cell_type": "code",
   "execution_count": 7,
   "metadata": {},
   "outputs": [
    {
     "name": "stdout",
     "output_type": "stream",
     "text": [
      "deque(['x', 'y', 'z'])\n"
     ]
    }
   ],
   "source": [
    "from collections import deque    \n",
    "list = [\"x\",\"y\",\"z\"]    \n",
    "deq = deque(list)    \n",
    "print(deq)    "
   ]
  },
  {
   "cell_type": "markdown",
   "metadata": {},
   "source": [
    "* Chainmap Objects"
   ]
  },
  {
   "cell_type": "code",
   "execution_count": 13,
   "metadata": {},
   "outputs": [
    {
     "name": "stdout",
     "output_type": "stream",
     "text": [
      "('Name', 'Age', 'Roll_no')\n"
     ]
    }
   ],
   "source": [
    "from collections import ChainMap\n",
    "\n",
    "baseline = {'Name': 'Peter', 'Age': '14'}  \n",
    "\n",
    "adjustments = {'Age': '14', 'Roll_no': '0012'}  \n",
    "\n",
    "print(tuple(ChainMap(adjustments, baseline)))"
   ]
  },
  {
   "cell_type": "code",
   "execution_count": null,
   "metadata": {},
   "outputs": [],
   "source": []
  }
 ],
 "metadata": {
  "kernelspec": {
   "display_name": "Python 3",
   "language": "python",
   "name": "python3"
  },
  "language_info": {
   "codemirror_mode": {
    "name": "ipython",
    "version": 3
   },
   "file_extension": ".py",
   "mimetype": "text/x-python",
   "name": "python",
   "nbconvert_exporter": "python",
   "pygments_lexer": "ipython3",
   "version": "3.7.6"
  }
 },
 "nbformat": 4,
 "nbformat_minor": 4
}
