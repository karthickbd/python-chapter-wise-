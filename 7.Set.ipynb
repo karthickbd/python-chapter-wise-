{
 "cells": [
  {
   "cell_type": "markdown",
   "metadata": {},
   "source": [
    "# 7.Set"
   ]
  },
  {
   "cell_type": "markdown",
   "metadata": {},
   "source": [
    "* A Python set is the collection of the unordered items. Each element in the set must be unique, immutable, and the sets remove the duplicate elements. Sets are mutable which means we can modify it after its creation.\n",
    "\n",
    "* Unlike other collections in Python, there is no index attached to the elements of the set, i.e., we cannot directly access any element of the set by the index. However, we can print them all together, or we can get the list of elements by looping through the set."
   ]
  },
  {
   "cell_type": "code",
   "execution_count": 1,
   "metadata": {},
   "outputs": [
    {
     "name": "stdout",
     "output_type": "stream",
     "text": [
      "{'Thursday', 'Tuesday', 'Monday', 'Friday', 'Wednesday', 'Sunday', 'Saturday'}\n",
      "<class 'set'>\n",
      "looping through the set elements ... \n",
      "Thursday\n",
      "Tuesday\n",
      "Monday\n",
      "Friday\n",
      "Wednesday\n",
      "Sunday\n",
      "Saturday\n"
     ]
    }
   ],
   "source": [
    "Days = {\"Monday\", \"Tuesday\", \"Wednesday\", \"Thursday\", \"Friday\", \"Saturday\", \"Sunday\"}    \n",
    "\n",
    "print(Days)    \n",
    "\n",
    "print(type(Days))    \n",
    "\n",
    "print(\"looping through the set elements ... \")    \n",
    "\n",
    "for i in Days:    \n",
    "    print(i)    "
   ]
  },
  {
   "cell_type": "code",
   "execution_count": 2,
   "metadata": {},
   "outputs": [
    {
     "name": "stdout",
     "output_type": "stream",
     "text": [
      "{'Thursday', 'Tuesday', 'Monday', 'Friday', 'Wednesday', 'Sunday', 'Saturday'}\n",
      "<class 'set'>\n",
      "looping through the set elements ... \n",
      "Thursday\n",
      "Tuesday\n",
      "Monday\n",
      "Friday\n",
      "Wednesday\n",
      "Sunday\n",
      "Saturday\n"
     ]
    }
   ],
   "source": [
    "Days = set([\"Monday\", \"Tuesday\", \"Wednesday\", \"Thursday\", \"Friday\", \"Saturday\", \"Sunday\"])    \n",
    "print(Days)    \n",
    "print(type(Days))    \n",
    "print(\"looping through the set elements ... \")    \n",
    "for i in Days:    \n",
    "    print(i)    "
   ]
  },
  {
   "cell_type": "code",
   "execution_count": 4,
   "metadata": {},
   "outputs": [
    {
     "name": "stdout",
     "output_type": "stream",
     "text": [
      "<class 'set'>\n"
     ]
    }
   ],
   "source": [
    "# Creating a set which have immutable elements  \n",
    "set1 = {1,2,3, \"JavaTpoint\", 20.5, 14} \n",
    "\n",
    "print(type(set1))  \n",
    "\n",
    "\n"
   ]
  },
  {
   "cell_type": "code",
   "execution_count": 5,
   "metadata": {},
   "outputs": [
    {
     "ename": "TypeError",
     "evalue": "unhashable type: 'list'",
     "output_type": "error",
     "traceback": [
      "\u001b[1;31m---------------------------------------------------------------------------\u001b[0m",
      "\u001b[1;31mTypeError\u001b[0m                                 Traceback (most recent call last)",
      "\u001b[1;32m<ipython-input-5-d78e1c57fb3e>\u001b[0m in \u001b[0;36m<module>\u001b[1;34m\u001b[0m\n\u001b[0;32m      1\u001b[0m \u001b[1;31m#Creating a set which have mutable element\u001b[0m\u001b[1;33m\u001b[0m\u001b[1;33m\u001b[0m\u001b[1;33m\u001b[0m\u001b[0m\n\u001b[1;32m----> 2\u001b[1;33m \u001b[0mset2\u001b[0m \u001b[1;33m=\u001b[0m \u001b[1;33m{\u001b[0m\u001b[1;36m1\u001b[0m\u001b[1;33m,\u001b[0m\u001b[1;36m2\u001b[0m\u001b[1;33m,\u001b[0m\u001b[1;36m3\u001b[0m\u001b[1;33m,\u001b[0m\u001b[1;33m[\u001b[0m\u001b[1;34m\"Javatpoint\"\u001b[0m\u001b[1;33m,\u001b[0m\u001b[1;36m4\u001b[0m\u001b[1;33m]\u001b[0m\u001b[1;33m}\u001b[0m\u001b[1;33m\u001b[0m\u001b[1;33m\u001b[0m\u001b[0m\n\u001b[0m\u001b[0;32m      3\u001b[0m \u001b[0mprint\u001b[0m\u001b[1;33m(\u001b[0m\u001b[0mtype\u001b[0m\u001b[1;33m(\u001b[0m\u001b[0mset2\u001b[0m\u001b[1;33m)\u001b[0m\u001b[1;33m)\u001b[0m\u001b[1;33m\u001b[0m\u001b[1;33m\u001b[0m\u001b[0m\n",
      "\u001b[1;31mTypeError\u001b[0m: unhashable type: 'list'"
     ]
    }
   ],
   "source": [
    "#Creating a set which have mutable element  \n",
    "set2 = {1,2,3,[\"Javatpoint\",4]}  \n",
    "print(type(set2))  "
   ]
  },
  {
   "cell_type": "code",
   "execution_count": 6,
   "metadata": {},
   "outputs": [
    {
     "name": "stdout",
     "output_type": "stream",
     "text": [
      "<class 'dict'>\n",
      "<class 'set'>\n"
     ]
    }
   ],
   "source": [
    "# Empty curly braces will create dictionary  \n",
    "set3 = {}  \n",
    "print(type(set3))  \n",
    "  \n",
    "# Empty set using set() function  \n",
    "set4 = set()  \n",
    "print(type(set4))  "
   ]
  },
  {
   "cell_type": "code",
   "execution_count": 10,
   "metadata": {},
   "outputs": [
    {
     "name": "stdout",
     "output_type": "stream",
     "text": [
      "{1, 2, 4, 5, 8, 9, 10}\n"
     ]
    }
   ],
   "source": [
    "set5 = {1,2,4,4,5,8,9,9,10}  \n",
    "print(set5)  "
   ]
  },
  {
   "cell_type": "markdown",
   "metadata": {},
   "source": [
    "* SET FUNTIONS "
   ]
  },
  {
   "cell_type": "markdown",
   "metadata": {},
   "source": [
    "<img src='2.png'>"
   ]
  },
  {
   "cell_type": "code",
   "execution_count": 12,
   "metadata": {},
   "outputs": [
    {
     "name": "stdout",
     "output_type": "stream",
     "text": [
      "{'January', 'March', 'June', 'February', 'May', 'April'}\n",
      "{'August', 'January', 'March', 'June', 'July', 'February', 'May', 'April'}\n",
      "August\n",
      "January\n",
      "March\n",
      "June\n",
      "July\n",
      "February\n",
      "May\n",
      "April\n"
     ]
    }
   ],
   "source": [
    "Months = set([\"January\",\"February\", \"March\", \"April\", \"May\", \"June\"]) \n",
    "\n",
    "print(Months)    \n",
    "\n",
    "Months.add(\"July\");    \n",
    "Months.add (\"August\");    \n",
    "\n",
    "print(Months)    \n",
    "\n",
    "for i in Months:    \n",
    "    print(i)    "
   ]
  },
  {
   "cell_type": "code",
   "execution_count": 13,
   "metadata": {},
   "outputs": [
    {
     "name": "stdout",
     "output_type": "stream",
     "text": [
      "{'January', 'March', 'June', 'February', 'May', 'April'}\n",
      "\n",
      "printing the modified set ... \n",
      "{'August', 'January', 'March', 'October', 'June', 'September', 'July', 'February', 'May', 'April'}\n"
     ]
    }
   ],
   "source": [
    "Months = set([\"January\",\"February\", \"March\", \"April\", \"May\", \"June\"])    \n",
    "  \n",
    "print(Months) \n",
    "\n",
    "\n",
    "  \n",
    "Months.update([\"July\",\"August\",\"September\",\"October\"]);  \n",
    "\n",
    "\n",
    "print(\"\\nprinting the modified set ... \")     \n",
    "print(Months);  "
   ]
  },
  {
   "cell_type": "code",
   "execution_count": 14,
   "metadata": {},
   "outputs": [
    {
     "name": "stdout",
     "output_type": "stream",
     "text": [
      "{'January', 'March', 'June', 'February', 'May', 'April'}\n",
      "{'March', 'June', 'February', 'April'}\n",
      "March\n",
      "June\n",
      "February\n",
      "April\n"
     ]
    }
   ],
   "source": [
    "months = set([\"January\",\"February\", \"March\", \"April\", \"May\", \"June\"])       \n",
    "\n",
    "print(months)    \n",
    "\n",
    "months.discard(\"January\");    \n",
    "\n",
    "months.discard(\"May\");       \n",
    "\n",
    "print(months)    \n",
    "\n",
    "for i in months:    \n",
    "    print(i) "
   ]
  },
  {
   "cell_type": "code",
   "execution_count": 16,
   "metadata": {},
   "outputs": [
    {
     "name": "stdout",
     "output_type": "stream",
     "text": [
      "{'January', 'March', 'June', 'February', 'May', 'April'}\n",
      "\n",
      "Printing the modified set...\n",
      "{'March', 'June', 'February', 'April'}\n"
     ]
    }
   ],
   "source": [
    "months = set([\"January\",\"February\", \"March\", \"April\", \"May\", \"June\"])    \n",
    "  \n",
    "print(months)    \n",
    "months.remove(\"January\");    \n",
    "\n",
    "months.remove(\"May\");    \n",
    "\n",
    "print(\"\\nPrinting the modified set...\");    \n",
    "\n",
    "print(months)    "
   ]
  },
  {
   "cell_type": "code",
   "execution_count": 17,
   "metadata": {},
   "outputs": [
    {
     "name": "stdout",
     "output_type": "stream",
     "text": [
      "\n",
      "printing the original set ... \n",
      "{'January', 'March', 'June', 'February', 'May', 'April'}\n",
      "\n",
      "Removing some months from the set...\n",
      "\n",
      "Printing the modified set...\n",
      "{'June', 'February', 'May', 'April'}\n"
     ]
    }
   ],
   "source": [
    "Months = set([\"January\",\"February\", \"March\", \"April\", \"May\", \"June\"])    \n",
    "print(\"\\nprinting the original set ... \")    \n",
    "print(Months)    \n",
    "print(\"\\nRemoving some months from the set...\");    \n",
    "Months.pop();    \n",
    "Months.pop();    \n",
    "print(\"\\nPrinting the modified set...\");    \n",
    "print(Months)"
   ]
  },
  {
   "cell_type": "code",
   "execution_count": 18,
   "metadata": {},
   "outputs": [
    {
     "name": "stdout",
     "output_type": "stream",
     "text": [
      "\n",
      "printing the original set ... \n",
      "{'January', 'March', 'June', 'February', 'May', 'April'}\n",
      "\n",
      "Removing all the items from the set...\n",
      "\n",
      "Printing the modified set...\n",
      "set()\n"
     ]
    }
   ],
   "source": [
    "Months = set([\"January\",\"February\", \"March\", \"April\", \"May\", \"June\"])    \n",
    "print(\"\\nprinting the original set ... \")    \n",
    "print(Months)    \n",
    "\n",
    "print(\"\\nRemoving all the items from the set...\");    \n",
    "Months.clear()    \n",
    "\n",
    "print(\"\\nPrinting the modified set...\")    \n",
    "print(Months)    "
   ]
  },
  {
   "cell_type": "markdown",
   "metadata": {},
   "source": [
    "* Union of two Sets"
   ]
  },
  {
   "cell_type": "code",
   "execution_count": 19,
   "metadata": {},
   "outputs": [
    {
     "name": "stdout",
     "output_type": "stream",
     "text": [
      "{'Saturday', 'Thursday', 'Sunday', 'Wednesday', 'Tuesday', 'Monday', 'Friday'}\n"
     ]
    }
   ],
   "source": [
    "Days1 = {\"Monday\",\"Tuesday\",\"Wednesday\",\"Thursday\", \"Sunday\"}    \n",
    "Days2 = {\"Friday\",\"Saturday\",\"Sunday\"}    \n",
    "print(Days1|Days2) #printing the union of the sets     "
   ]
  },
  {
   "cell_type": "code",
   "execution_count": 20,
   "metadata": {},
   "outputs": [
    {
     "name": "stdout",
     "output_type": "stream",
     "text": [
      "{'Saturday', 'Thursday', 'Sunday', 'Wednesday', 'Tuesday', 'Monday', 'Friday'}\n"
     ]
    }
   ],
   "source": [
    "Days1 = {\"Monday\",\"Tuesday\",\"Wednesday\",\"Thursday\"}    \n",
    "Days2 = {\"Friday\",\"Saturday\",\"Sunday\"}    \n",
    "print(Days1.union(Days2)) #printing the union of the sets     "
   ]
  },
  {
   "cell_type": "markdown",
   "metadata": {},
   "source": [
    "* Intersection of two sets"
   ]
  },
  {
   "cell_type": "code",
   "execution_count": 21,
   "metadata": {},
   "outputs": [
    {
     "name": "stdout",
     "output_type": "stream",
     "text": [
      "{'Tuesday', 'Monday'}\n"
     ]
    }
   ],
   "source": [
    "Days1 = {\"Monday\",\"Tuesday\", \"Wednesday\", \"Thursday\"}    \n",
    "Days2 = {\"Monday\",\"Tuesday\",\"Sunday\", \"Friday\"}    \n",
    "print(Days1&Days2) #prints the intersection of the two sets    "
   ]
  },
  {
   "cell_type": "markdown",
   "metadata": {},
   "source": [
    "* The intersection_update() method"
   ]
  },
  {
   "cell_type": "code",
   "execution_count": 22,
   "metadata": {},
   "outputs": [
    {
     "name": "stdout",
     "output_type": "stream",
     "text": [
      "{'David', 'Martin'}\n"
     ]
    }
   ],
   "source": [
    "set1 = {\"Devansh\",\"John\", \"David\", \"Martin\"}    \n",
    "set2 = {\"Steve\", \"Milan\", \"David\", \"Martin\"}    \n",
    "print(set1.intersection(set2)) #prints the intersection of the two sets    "
   ]
  },
  {
   "cell_type": "markdown",
   "metadata": {},
   "source": [
    "* The intersection_update() method"
   ]
  },
  {
   "cell_type": "code",
   "execution_count": 23,
   "metadata": {},
   "outputs": [
    {
     "name": "stdout",
     "output_type": "stream",
     "text": [
      "{'castle'}\n"
     ]
    }
   ],
   "source": [
    "a = {\"Devansh\", \"bob\", \"castle\"}    \n",
    "b = {\"castle\", \"dude\", \"emyway\"}    \n",
    "c = {\"fuson\", \"gaurav\", \"castle\"}    \n",
    "    \n",
    "a.intersection_update(b, c)    \n",
    "    \n",
    "print(a) "
   ]
  },
  {
   "cell_type": "markdown",
   "metadata": {},
   "source": [
    "* Difference between the two sets"
   ]
  },
  {
   "cell_type": "code",
   "execution_count": 25,
   "metadata": {},
   "outputs": [
    {
     "name": "stdout",
     "output_type": "stream",
     "text": [
      "{'Thursday', 'Wednesday'}\n"
     ]
    }
   ],
   "source": [
    "Days1 = {\"Monday\",  \"Tuesday\", \"Wednesday\", \"Thursday\"}    \n",
    "Days2 = {\"Monday\", \"Tuesday\", \"Sunday\"}    \n",
    "print(Days1-Days2) #{\"Wednesday\", \"Thursday\" will be printed}    "
   ]
  },
  {
   "cell_type": "code",
   "execution_count": 26,
   "metadata": {},
   "outputs": [
    {
     "name": "stdout",
     "output_type": "stream",
     "text": [
      "{'Thursday', 'Wednesday'}\n"
     ]
    }
   ],
   "source": [
    "Days1 = {\"Monday\",  \"Tuesday\", \"Wednesday\", \"Thursday\"}    \n",
    "Days2 = {\"Monday\", \"Tuesday\", \"Sunday\"}    \n",
    "print(Days1.difference(Days2)) # prints the difference of the two sets Days1 and Days2    "
   ]
  },
  {
   "cell_type": "code",
   "execution_count": 27,
   "metadata": {},
   "outputs": [
    {
     "name": "stdout",
     "output_type": "stream",
     "text": [
      "{3, 4, 5, 6, 8, 9, 10}\n"
     ]
    }
   ],
   "source": [
    "a = {1,2,3,4,5,6}  \n",
    "b = {1,2,9,8,10}  \n",
    "c = a^b  \n",
    "print(c)  "
   ]
  },
  {
   "cell_type": "markdown",
   "metadata": {},
   "source": [
    "* Symmetric Difference of two sets"
   ]
  },
  {
   "cell_type": "code",
   "execution_count": 28,
   "metadata": {},
   "outputs": [
    {
     "name": "stdout",
     "output_type": "stream",
     "text": [
      "{3, 4, 5, 6, 8, 9, 10}\n"
     ]
    }
   ],
   "source": [
    "a = {1,2,3,4,5,6}  \n",
    "b = {1,2,9,8,10}  \n",
    "c = a.symmetric_difference(b)  \n",
    "print(c)  "
   ]
  },
  {
   "cell_type": "markdown",
   "metadata": {},
   "source": [
    "* Set comparisons"
   ]
  },
  {
   "cell_type": "code",
   "execution_count": 29,
   "metadata": {},
   "outputs": [
    {
     "name": "stdout",
     "output_type": "stream",
     "text": [
      "True\n",
      "False\n",
      "False\n"
     ]
    }
   ],
   "source": [
    "Days1 = {\"Monday\",  \"Tuesday\", \"Wednesday\", \"Thursday\"}    \n",
    "Days2 = {\"Monday\", \"Tuesday\"}    \n",
    "Days3 = {\"Monday\", \"Tuesday\", \"Friday\"}    \n",
    "    \n",
    "#Days1 is the superset of Days2 hence it will print true.     \n",
    "print (Days1>Days2)     \n",
    "    \n",
    "#prints false since Days1 is not the subset of Days2     \n",
    "print (Days1<Days2)    \n",
    "    \n",
    "#prints false since Days2 and Days3 are not equivalent     \n",
    "print (Days2 == Days3)    "
   ]
  },
  {
   "cell_type": "markdown",
   "metadata": {},
   "source": [
    "* FrozenSets"
   ]
  },
  {
   "cell_type": "code",
   "execution_count": 30,
   "metadata": {},
   "outputs": [
    {
     "name": "stdout",
     "output_type": "stream",
     "text": [
      "<class 'frozenset'>\n",
      "\n",
      "printing the content of frozen set...\n",
      "1\n",
      "2\n",
      "3\n",
      "4\n",
      "5\n"
     ]
    },
    {
     "ename": "AttributeError",
     "evalue": "'frozenset' object has no attribute 'add'",
     "output_type": "error",
     "traceback": [
      "\u001b[1;31m---------------------------------------------------------------------------\u001b[0m",
      "\u001b[1;31mAttributeError\u001b[0m                            Traceback (most recent call last)",
      "\u001b[1;32m<ipython-input-30-f66d2d3b62db>\u001b[0m in \u001b[0;36m<module>\u001b[1;34m\u001b[0m\n\u001b[0;32m      4\u001b[0m \u001b[1;32mfor\u001b[0m \u001b[0mi\u001b[0m \u001b[1;32min\u001b[0m \u001b[0mFrozenset\u001b[0m\u001b[1;33m:\u001b[0m\u001b[1;33m\u001b[0m\u001b[1;33m\u001b[0m\u001b[0m\n\u001b[0;32m      5\u001b[0m     \u001b[0mprint\u001b[0m\u001b[1;33m(\u001b[0m\u001b[0mi\u001b[0m\u001b[1;33m)\u001b[0m\u001b[1;33m;\u001b[0m\u001b[1;33m\u001b[0m\u001b[1;33m\u001b[0m\u001b[0m\n\u001b[1;32m----> 6\u001b[1;33m \u001b[0mFrozenset\u001b[0m\u001b[1;33m.\u001b[0m\u001b[0madd\u001b[0m\u001b[1;33m(\u001b[0m\u001b[1;36m6\u001b[0m\u001b[1;33m)\u001b[0m \u001b[1;31m#gives an error since we cannot change the content of Frozenset after creation\u001b[0m\u001b[1;33m\u001b[0m\u001b[1;33m\u001b[0m\u001b[0m\n\u001b[0m",
      "\u001b[1;31mAttributeError\u001b[0m: 'frozenset' object has no attribute 'add'"
     ]
    }
   ],
   "source": [
    "Frozenset = frozenset([1,2,3,4,5])     \n",
    "print(type(Frozenset))    \n",
    "print(\"\\nprinting the content of frozen set...\")    \n",
    "for i in Frozenset:    \n",
    "    print(i);    \n",
    "Frozenset.add(6) #gives an error since we cannot change the content of Frozenset after creation     "
   ]
  },
  {
   "cell_type": "markdown",
   "metadata": {},
   "source": [
    "* Frozenset for the dictionary"
   ]
  },
  {
   "cell_type": "code",
   "execution_count": 31,
   "metadata": {},
   "outputs": [
    {
     "name": "stdout",
     "output_type": "stream",
     "text": [
      "<class 'dict'>\n",
      "<class 'frozenset'>\n",
      "Country\n",
      "Name\n",
      "ID\n"
     ]
    }
   ],
   "source": [
    "Dictionary = {\"Name\":\"John\", \"Country\":\"USA\", \"ID\":101}     \n",
    "\n",
    "print(type(Dictionary))    \n",
    "\n",
    "Frozenset = frozenset(Dictionary); #Frozenset will contain the keys of the dictionary    \n",
    "print(type(Frozenset))    \n",
    "for i in Frozenset:     \n",
    "    print(i)    "
   ]
  },
  {
   "cell_type": "code",
   "execution_count": null,
   "metadata": {},
   "outputs": [],
   "source": []
  }
 ],
 "metadata": {
  "kernelspec": {
   "display_name": "Python 3",
   "language": "python",
   "name": "python3"
  },
  "language_info": {
   "codemirror_mode": {
    "name": "ipython",
    "version": 3
   },
   "file_extension": ".py",
   "mimetype": "text/x-python",
   "name": "python",
   "nbconvert_exporter": "python",
   "pygments_lexer": "ipython3",
   "version": "3.7.6"
  }
 },
 "nbformat": 4,
 "nbformat_minor": 4
}
